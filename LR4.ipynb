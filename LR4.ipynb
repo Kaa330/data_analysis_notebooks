{
 "cells": [
  {
   "cell_type": "markdown",
   "id": "9172807d",
   "metadata": {},
   "source": [
    "## ЛАБОРАТОРНАЯ РАБОТА №3\n",
    "## ПРИМЕНЕНИЕ МЕТОДОВ КЛАССИФИКАЦИИ"
   ]
  },
  {
   "cell_type": "markdown",
   "id": "570401ab",
   "metadata": {},
   "source": [
    "Подключаем библиотеку для обработки и анализа данных"
   ]
  },
  {
   "cell_type": "code",
   "execution_count": 1,
   "id": "106115e9",
   "metadata": {},
   "outputs": [],
   "source": [
    "import pandas as pd"
   ]
  },
  {
   "cell_type": "markdown",
   "id": "363d74e6",
   "metadata": {},
   "source": [
    "Загружаем датасет"
   ]
  },
  {
   "cell_type": "code",
   "execution_count": 2,
   "id": "2848fea0",
   "metadata": {},
   "outputs": [],
   "source": [
    "df = pd.read_csv(\"4heart2.csv\")"
   ]
  },
  {
   "cell_type": "markdown",
   "id": "71a06e88",
   "metadata": {},
   "source": [
    "Выводим информацию о данных датасета"
   ]
  },
  {
   "cell_type": "code",
   "execution_count": 3,
   "id": "7d086aae",
   "metadata": {},
   "outputs": [
    {
     "name": "stdout",
     "output_type": "stream",
     "text": [
      "<class 'pandas.core.frame.DataFrame'>\n",
      "RangeIndex: 299 entries, 0 to 298\n",
      "Data columns (total 13 columns):\n",
      " #   Column                    Non-Null Count  Dtype  \n",
      "---  ------                    --------------  -----  \n",
      " 0   age                       299 non-null    float64\n",
      " 1   anaemia                   299 non-null    int64  \n",
      " 2   creatinine_phosphokinase  299 non-null    int64  \n",
      " 3   diabetes                  299 non-null    int64  \n",
      " 4   ejection_fraction         299 non-null    int64  \n",
      " 5   high_blood_pressure       299 non-null    int64  \n",
      " 6   platelets                 299 non-null    float64\n",
      " 7   serum_creatinine          299 non-null    float64\n",
      " 8   serum_sodium              299 non-null    int64  \n",
      " 9   sex                       299 non-null    int64  \n",
      " 10  smoking                   299 non-null    int64  \n",
      " 11  time                      299 non-null    int64  \n",
      " 12  DEATH_EVENT               299 non-null    int64  \n",
      "dtypes: float64(3), int64(10)\n",
      "memory usage: 30.5 KB\n"
     ]
    }
   ],
   "source": [
    "df.info()"
   ]
  },
  {
   "cell_type": "markdown",
   "id": "08f68097",
   "metadata": {},
   "source": [
    "Вывод первыx 10 строк датасета"
   ]
  },
  {
   "cell_type": "code",
   "execution_count": 4,
   "id": "04fd30c4",
   "metadata": {},
   "outputs": [
    {
     "data": {
      "text/html": [
       "<div>\n",
       "<style scoped>\n",
       "    .dataframe tbody tr th:only-of-type {\n",
       "        vertical-align: middle;\n",
       "    }\n",
       "\n",
       "    .dataframe tbody tr th {\n",
       "        vertical-align: top;\n",
       "    }\n",
       "\n",
       "    .dataframe thead th {\n",
       "        text-align: right;\n",
       "    }\n",
       "</style>\n",
       "<table border=\"1\" class=\"dataframe\">\n",
       "  <thead>\n",
       "    <tr style=\"text-align: right;\">\n",
       "      <th></th>\n",
       "      <th>age</th>\n",
       "      <th>anaemia</th>\n",
       "      <th>creatinine_phosphokinase</th>\n",
       "      <th>diabetes</th>\n",
       "      <th>ejection_fraction</th>\n",
       "      <th>high_blood_pressure</th>\n",
       "      <th>platelets</th>\n",
       "      <th>serum_creatinine</th>\n",
       "      <th>serum_sodium</th>\n",
       "      <th>sex</th>\n",
       "      <th>smoking</th>\n",
       "      <th>time</th>\n",
       "      <th>DEATH_EVENT</th>\n",
       "    </tr>\n",
       "  </thead>\n",
       "  <tbody>\n",
       "    <tr>\n",
       "      <th>0</th>\n",
       "      <td>75.0</td>\n",
       "      <td>0</td>\n",
       "      <td>582</td>\n",
       "      <td>0</td>\n",
       "      <td>20</td>\n",
       "      <td>1</td>\n",
       "      <td>265000.00</td>\n",
       "      <td>1.9</td>\n",
       "      <td>130</td>\n",
       "      <td>1</td>\n",
       "      <td>0</td>\n",
       "      <td>4</td>\n",
       "      <td>1</td>\n",
       "    </tr>\n",
       "    <tr>\n",
       "      <th>1</th>\n",
       "      <td>55.0</td>\n",
       "      <td>0</td>\n",
       "      <td>7861</td>\n",
       "      <td>0</td>\n",
       "      <td>38</td>\n",
       "      <td>0</td>\n",
       "      <td>263358.03</td>\n",
       "      <td>1.1</td>\n",
       "      <td>136</td>\n",
       "      <td>1</td>\n",
       "      <td>0</td>\n",
       "      <td>6</td>\n",
       "      <td>1</td>\n",
       "    </tr>\n",
       "    <tr>\n",
       "      <th>2</th>\n",
       "      <td>65.0</td>\n",
       "      <td>0</td>\n",
       "      <td>146</td>\n",
       "      <td>0</td>\n",
       "      <td>20</td>\n",
       "      <td>0</td>\n",
       "      <td>162000.00</td>\n",
       "      <td>1.3</td>\n",
       "      <td>129</td>\n",
       "      <td>1</td>\n",
       "      <td>1</td>\n",
       "      <td>7</td>\n",
       "      <td>1</td>\n",
       "    </tr>\n",
       "    <tr>\n",
       "      <th>3</th>\n",
       "      <td>50.0</td>\n",
       "      <td>1</td>\n",
       "      <td>111</td>\n",
       "      <td>0</td>\n",
       "      <td>20</td>\n",
       "      <td>0</td>\n",
       "      <td>210000.00</td>\n",
       "      <td>1.9</td>\n",
       "      <td>137</td>\n",
       "      <td>1</td>\n",
       "      <td>0</td>\n",
       "      <td>7</td>\n",
       "      <td>1</td>\n",
       "    </tr>\n",
       "    <tr>\n",
       "      <th>4</th>\n",
       "      <td>65.0</td>\n",
       "      <td>1</td>\n",
       "      <td>160</td>\n",
       "      <td>1</td>\n",
       "      <td>20</td>\n",
       "      <td>0</td>\n",
       "      <td>327000.00</td>\n",
       "      <td>2.7</td>\n",
       "      <td>116</td>\n",
       "      <td>0</td>\n",
       "      <td>0</td>\n",
       "      <td>8</td>\n",
       "      <td>1</td>\n",
       "    </tr>\n",
       "    <tr>\n",
       "      <th>5</th>\n",
       "      <td>90.0</td>\n",
       "      <td>1</td>\n",
       "      <td>47</td>\n",
       "      <td>0</td>\n",
       "      <td>40</td>\n",
       "      <td>1</td>\n",
       "      <td>204000.00</td>\n",
       "      <td>2.1</td>\n",
       "      <td>132</td>\n",
       "      <td>1</td>\n",
       "      <td>1</td>\n",
       "      <td>8</td>\n",
       "      <td>1</td>\n",
       "    </tr>\n",
       "    <tr>\n",
       "      <th>6</th>\n",
       "      <td>75.0</td>\n",
       "      <td>1</td>\n",
       "      <td>246</td>\n",
       "      <td>0</td>\n",
       "      <td>15</td>\n",
       "      <td>0</td>\n",
       "      <td>127000.00</td>\n",
       "      <td>1.2</td>\n",
       "      <td>137</td>\n",
       "      <td>1</td>\n",
       "      <td>0</td>\n",
       "      <td>10</td>\n",
       "      <td>1</td>\n",
       "    </tr>\n",
       "    <tr>\n",
       "      <th>7</th>\n",
       "      <td>60.0</td>\n",
       "      <td>1</td>\n",
       "      <td>315</td>\n",
       "      <td>1</td>\n",
       "      <td>60</td>\n",
       "      <td>0</td>\n",
       "      <td>454000.00</td>\n",
       "      <td>1.1</td>\n",
       "      <td>131</td>\n",
       "      <td>1</td>\n",
       "      <td>1</td>\n",
       "      <td>10</td>\n",
       "      <td>1</td>\n",
       "    </tr>\n",
       "    <tr>\n",
       "      <th>8</th>\n",
       "      <td>65.0</td>\n",
       "      <td>0</td>\n",
       "      <td>157</td>\n",
       "      <td>0</td>\n",
       "      <td>65</td>\n",
       "      <td>0</td>\n",
       "      <td>263358.03</td>\n",
       "      <td>1.5</td>\n",
       "      <td>138</td>\n",
       "      <td>0</td>\n",
       "      <td>0</td>\n",
       "      <td>10</td>\n",
       "      <td>1</td>\n",
       "    </tr>\n",
       "    <tr>\n",
       "      <th>9</th>\n",
       "      <td>80.0</td>\n",
       "      <td>1</td>\n",
       "      <td>123</td>\n",
       "      <td>0</td>\n",
       "      <td>35</td>\n",
       "      <td>1</td>\n",
       "      <td>388000.00</td>\n",
       "      <td>9.4</td>\n",
       "      <td>133</td>\n",
       "      <td>1</td>\n",
       "      <td>1</td>\n",
       "      <td>10</td>\n",
       "      <td>1</td>\n",
       "    </tr>\n",
       "  </tbody>\n",
       "</table>\n",
       "</div>"
      ],
      "text/plain": [
       "    age  anaemia  creatinine_phosphokinase  diabetes  ejection_fraction  \\\n",
       "0  75.0        0                       582         0                 20   \n",
       "1  55.0        0                      7861         0                 38   \n",
       "2  65.0        0                       146         0                 20   \n",
       "3  50.0        1                       111         0                 20   \n",
       "4  65.0        1                       160         1                 20   \n",
       "5  90.0        1                        47         0                 40   \n",
       "6  75.0        1                       246         0                 15   \n",
       "7  60.0        1                       315         1                 60   \n",
       "8  65.0        0                       157         0                 65   \n",
       "9  80.0        1                       123         0                 35   \n",
       "\n",
       "   high_blood_pressure  platelets  serum_creatinine  serum_sodium  sex  \\\n",
       "0                    1  265000.00               1.9           130    1   \n",
       "1                    0  263358.03               1.1           136    1   \n",
       "2                    0  162000.00               1.3           129    1   \n",
       "3                    0  210000.00               1.9           137    1   \n",
       "4                    0  327000.00               2.7           116    0   \n",
       "5                    1  204000.00               2.1           132    1   \n",
       "6                    0  127000.00               1.2           137    1   \n",
       "7                    0  454000.00               1.1           131    1   \n",
       "8                    0  263358.03               1.5           138    0   \n",
       "9                    1  388000.00               9.4           133    1   \n",
       "\n",
       "   smoking  time  DEATH_EVENT  \n",
       "0        0     4            1  \n",
       "1        0     6            1  \n",
       "2        1     7            1  \n",
       "3        0     7            1  \n",
       "4        0     8            1  \n",
       "5        1     8            1  \n",
       "6        0    10            1  \n",
       "7        1    10            1  \n",
       "8        0    10            1  \n",
       "9        1    10            1  "
      ]
     },
     "execution_count": 4,
     "metadata": {},
     "output_type": "execute_result"
    }
   ],
   "source": [
    "df.head(10)"
   ]
  },
  {
   "attachments": {},
   "cell_type": "markdown",
   "id": "d54459cc",
   "metadata": {},
   "source": [
    "Проанализировали  данные. Формат данных правильный, только названия столбцов нужно привести к единому змеиному регистру, и исправить тип данных в \"age\" на int."
   ]
  },
  {
   "cell_type": "markdown",
   "id": "d43ab2dc",
   "metadata": {},
   "source": [
    "# Предварительная подготовка данных"
   ]
  },
  {
   "cell_type": "markdown",
   "id": "a087a3aa",
   "metadata": {},
   "source": [
    "Исправим тип возраста на Int"
   ]
  },
  {
   "cell_type": "code",
   "execution_count": 5,
   "id": "db108cb2",
   "metadata": {},
   "outputs": [],
   "source": [
    "df[[\"age\"]] = df[[\"age\"]].astype(int)"
   ]
  },
  {
   "cell_type": "markdown",
   "id": "874d2a35",
   "metadata": {},
   "source": [
    "#### Устранение проблем названий столбцов"
   ]
  },
  {
   "cell_type": "markdown",
   "id": "0d81a3a7",
   "metadata": {},
   "source": [
    "Вывели названия столбцов таблицы"
   ]
  },
  {
   "cell_type": "code",
   "execution_count": 6,
   "id": "4be3eeb4",
   "metadata": {},
   "outputs": [
    {
     "name": "stdout",
     "output_type": "stream",
     "text": [
      "age\n",
      "anaemia\n",
      "creatinine_phosphokinase\n",
      "diabetes\n",
      "ejection_fraction\n",
      "high_blood_pressure\n",
      "platelets\n",
      "serum_creatinine\n",
      "serum_sodium\n",
      "sex\n",
      "smoking\n",
      "time\n",
      "DEATH_EVENT\n"
     ]
    }
   ],
   "source": [
    "print(*df.columns.tolist(), sep='\\n')"
   ]
  },
  {
   "cell_type": "markdown",
   "id": "0728fb50",
   "metadata": {},
   "source": [
    "Приведём названия столбцов к нижнему регистру"
   ]
  },
  {
   "cell_type": "code",
   "execution_count": 7,
   "id": "be1f613b",
   "metadata": {},
   "outputs": [
    {
     "name": "stdout",
     "output_type": "stream",
     "text": [
      "age\n",
      "anaemia\n",
      "creatinine_phosphokinase\n",
      "diabetes\n",
      "ejection_fraction\n",
      "high_blood_pressure\n",
      "platelets\n",
      "serum_creatinine\n",
      "serum_sodium\n",
      "sex\n",
      "smoking\n",
      "time\n",
      "death_event\n"
     ]
    }
   ],
   "source": [
    "df.columns = df.columns.str.lower()\n",
    "print(*df.columns.tolist(), sep='\\n')"
   ]
  },
  {
   "cell_type": "markdown",
   "id": "b752426d",
   "metadata": {},
   "source": [
    "Теперь названия столбцов имеют единый стиль змеиного регистра."
   ]
  },
  {
   "cell_type": "markdown",
   "id": "4bc6fb1d",
   "metadata": {},
   "source": [
    "#### Обработка пропусков"
   ]
  },
  {
   "cell_type": "markdown",
   "id": "603a643e",
   "metadata": {},
   "source": [
    "Поиск пустых значений"
   ]
  },
  {
   "cell_type": "code",
   "execution_count": 8,
   "id": "4dc699b9",
   "metadata": {},
   "outputs": [
    {
     "data": {
      "text/plain": [
       "age                         0\n",
       "anaemia                     0\n",
       "creatinine_phosphokinase    0\n",
       "diabetes                    0\n",
       "ejection_fraction           0\n",
       "high_blood_pressure         0\n",
       "platelets                   0\n",
       "serum_creatinine            0\n",
       "serum_sodium                0\n",
       "sex                         0\n",
       "smoking                     0\n",
       "time                        0\n",
       "death_event                 0\n",
       "dtype: int64"
      ]
     },
     "execution_count": 8,
     "metadata": {},
     "output_type": "execute_result"
    }
   ],
   "source": [
    "df.isnull().sum()"
   ]
  },
  {
   "cell_type": "markdown",
   "id": "fbde7785",
   "metadata": {},
   "source": [
    "Пропусков в датасете не оказалось, исправлять ничего не нужно – это упрощает нам работу."
   ]
  },
  {
   "cell_type": "markdown",
   "id": "2a301107",
   "metadata": {},
   "source": [
    "#### Устранение дубликатов "
   ]
  },
  {
   "cell_type": "markdown",
   "id": "bf6f7693",
   "metadata": {},
   "source": [
    "Проверим, есть ли дубликаты в таблице"
   ]
  },
  {
   "cell_type": "code",
   "execution_count": 9,
   "id": "656bee86",
   "metadata": {},
   "outputs": [
    {
     "data": {
      "text/plain": [
       "0"
      ]
     },
     "execution_count": 9,
     "metadata": {},
     "output_type": "execute_result"
    }
   ],
   "source": [
    "df.duplicated().sum()"
   ]
  },
  {
   "cell_type": "markdown",
   "id": "3a83968a",
   "metadata": {},
   "source": [
    "Дубликаты отсутствуют."
   ]
  },
  {
   "cell_type": "markdown",
   "id": "bb3e5d7d",
   "metadata": {},
   "source": [
    "#### Нормализация данных"
   ]
  },
  {
   "cell_type": "markdown",
   "id": "5a09cabf",
   "metadata": {},
   "source": [
    "Масштабирование данных будем производить с помощью класса MinMaxScaler() из модуля preprocessing библиотеки для машинного обучения sklearn, в результате мы получим значения параметров в диапазоне от 0 до 1."
   ]
  },
  {
   "cell_type": "code",
   "execution_count": 10,
   "id": "24b1eada",
   "metadata": {},
   "outputs": [],
   "source": [
    "from sklearn.preprocessing import MinMaxScaler\n",
    "\n",
    "scaler = MinMaxScaler()\n",
    "scaler.fit(df)\n",
    "df_sc = scaler.transform(df)"
   ]
  },
  {
   "cell_type": "code",
   "execution_count": 11,
   "id": "be3769de",
   "metadata": {},
   "outputs": [],
   "source": [
    "df_sc = pd.DataFrame(df_sc, columns = df.columns)"
   ]
  },
  {
   "cell_type": "markdown",
   "id": "570436f9",
   "metadata": {},
   "source": [
    "Посмотрели распределение признаков в датасете"
   ]
  },
  {
   "cell_type": "markdown",
   "id": "4bdbd76c",
   "metadata": {},
   "source": [
    "# Классификация данных"
   ]
  },
  {
   "cell_type": "markdown",
   "id": "553636fe",
   "metadata": {},
   "source": [
    "## Целевой признак\n",
    "\n",
    "Целевым признаком для нашего набора данных является поле ***death_event*** – *Факт смерти*, т.к. основная задача врачебных наблюдений в том, чтобы пациент был жив и здоров."
   ]
  },
  {
   "cell_type": "markdown",
   "id": "c2bc36bd",
   "metadata": {},
   "source": [
    "Отделили матрицу ***объект-признаков X*** и ***вектор целевой переменной y*** с помощью метода **drop()** библиотеки Pandas, это необходимо для проведения корректного обучения"
   ]
  },
  {
   "cell_type": "code",
   "execution_count": 13,
   "id": "208420dd",
   "metadata": {},
   "outputs": [],
   "source": [
    "y = df_sc['death_event']\n",
    "X = df_sc.drop(['death_event'], axis=1)"
   ]
  },
  {
   "cell_type": "code",
   "execution_count": 14,
   "id": "80cfe483",
   "metadata": {},
   "outputs": [
    {
     "data": {
      "text/html": [
       "<div>\n",
       "<style scoped>\n",
       "    .dataframe tbody tr th:only-of-type {\n",
       "        vertical-align: middle;\n",
       "    }\n",
       "\n",
       "    .dataframe tbody tr th {\n",
       "        vertical-align: top;\n",
       "    }\n",
       "\n",
       "    .dataframe thead th {\n",
       "        text-align: right;\n",
       "    }\n",
       "</style>\n",
       "<table border=\"1\" class=\"dataframe\">\n",
       "  <thead>\n",
       "    <tr style=\"text-align: right;\">\n",
       "      <th></th>\n",
       "      <th>age</th>\n",
       "      <th>anaemia</th>\n",
       "      <th>creatinine_phosphokinase</th>\n",
       "      <th>diabetes</th>\n",
       "      <th>ejection_fraction</th>\n",
       "      <th>high_blood_pressure</th>\n",
       "      <th>platelets</th>\n",
       "      <th>serum_creatinine</th>\n",
       "      <th>serum_sodium</th>\n",
       "      <th>sex</th>\n",
       "      <th>smoking</th>\n",
       "      <th>time</th>\n",
       "    </tr>\n",
       "  </thead>\n",
       "  <tbody>\n",
       "    <tr>\n",
       "      <th>0</th>\n",
       "      <td>0.636364</td>\n",
       "      <td>0.0</td>\n",
       "      <td>0.071319</td>\n",
       "      <td>0.0</td>\n",
       "      <td>0.090909</td>\n",
       "      <td>1.0</td>\n",
       "      <td>0.290823</td>\n",
       "      <td>0.157303</td>\n",
       "      <td>0.485714</td>\n",
       "      <td>1.0</td>\n",
       "      <td>0.0</td>\n",
       "      <td>0.000000</td>\n",
       "    </tr>\n",
       "    <tr>\n",
       "      <th>1</th>\n",
       "      <td>0.272727</td>\n",
       "      <td>0.0</td>\n",
       "      <td>1.000000</td>\n",
       "      <td>0.0</td>\n",
       "      <td>0.363636</td>\n",
       "      <td>0.0</td>\n",
       "      <td>0.288833</td>\n",
       "      <td>0.067416</td>\n",
       "      <td>0.657143</td>\n",
       "      <td>1.0</td>\n",
       "      <td>0.0</td>\n",
       "      <td>0.007117</td>\n",
       "    </tr>\n",
       "    <tr>\n",
       "      <th>2</th>\n",
       "      <td>0.454545</td>\n",
       "      <td>0.0</td>\n",
       "      <td>0.015693</td>\n",
       "      <td>0.0</td>\n",
       "      <td>0.090909</td>\n",
       "      <td>0.0</td>\n",
       "      <td>0.165960</td>\n",
       "      <td>0.089888</td>\n",
       "      <td>0.457143</td>\n",
       "      <td>1.0</td>\n",
       "      <td>1.0</td>\n",
       "      <td>0.010676</td>\n",
       "    </tr>\n",
       "    <tr>\n",
       "      <th>3</th>\n",
       "      <td>0.181818</td>\n",
       "      <td>1.0</td>\n",
       "      <td>0.011227</td>\n",
       "      <td>0.0</td>\n",
       "      <td>0.090909</td>\n",
       "      <td>0.0</td>\n",
       "      <td>0.224148</td>\n",
       "      <td>0.157303</td>\n",
       "      <td>0.685714</td>\n",
       "      <td>1.0</td>\n",
       "      <td>0.0</td>\n",
       "      <td>0.010676</td>\n",
       "    </tr>\n",
       "    <tr>\n",
       "      <th>4</th>\n",
       "      <td>0.454545</td>\n",
       "      <td>1.0</td>\n",
       "      <td>0.017479</td>\n",
       "      <td>1.0</td>\n",
       "      <td>0.090909</td>\n",
       "      <td>0.0</td>\n",
       "      <td>0.365984</td>\n",
       "      <td>0.247191</td>\n",
       "      <td>0.085714</td>\n",
       "      <td>0.0</td>\n",
       "      <td>0.0</td>\n",
       "      <td>0.014235</td>\n",
       "    </tr>\n",
       "  </tbody>\n",
       "</table>\n",
       "</div>"
      ],
      "text/plain": [
       "        age  anaemia  creatinine_phosphokinase  diabetes  ejection_fraction  \\\n",
       "0  0.636364      0.0                  0.071319       0.0           0.090909   \n",
       "1  0.272727      0.0                  1.000000       0.0           0.363636   \n",
       "2  0.454545      0.0                  0.015693       0.0           0.090909   \n",
       "3  0.181818      1.0                  0.011227       0.0           0.090909   \n",
       "4  0.454545      1.0                  0.017479       1.0           0.090909   \n",
       "\n",
       "   high_blood_pressure  platelets  serum_creatinine  serum_sodium  sex  \\\n",
       "0                  1.0   0.290823          0.157303      0.485714  1.0   \n",
       "1                  0.0   0.288833          0.067416      0.657143  1.0   \n",
       "2                  0.0   0.165960          0.089888      0.457143  1.0   \n",
       "3                  0.0   0.224148          0.157303      0.685714  1.0   \n",
       "4                  0.0   0.365984          0.247191      0.085714  0.0   \n",
       "\n",
       "   smoking      time  \n",
       "0      0.0  0.000000  \n",
       "1      0.0  0.007117  \n",
       "2      1.0  0.010676  \n",
       "3      0.0  0.010676  \n",
       "4      0.0  0.014235  "
      ]
     },
     "execution_count": 14,
     "metadata": {},
     "output_type": "execute_result"
    }
   ],
   "source": [
    "X.head()"
   ]
  },
  {
   "cell_type": "code",
   "execution_count": 15,
   "id": "28d5067f",
   "metadata": {},
   "outputs": [
    {
     "data": {
      "text/plain": [
       "0      1.0\n",
       "1      1.0\n",
       "2      1.0\n",
       "3      1.0\n",
       "4      1.0\n",
       "      ... \n",
       "294    0.0\n",
       "295    0.0\n",
       "296    0.0\n",
       "297    0.0\n",
       "298    0.0\n",
       "Name: death_event, Length: 299, dtype: float64"
      ]
     },
     "execution_count": 15,
     "metadata": {},
     "output_type": "execute_result"
    }
   ],
   "source": [
    "y"
   ]
  },
  {
   "cell_type": "markdown",
   "id": "211b2d1e",
   "metadata": {},
   "source": [
    "## Разбиение набора данных на тренировочной и тестовый датасеты с помощью train_test_split"
   ]
  },
  {
   "cell_type": "markdown",
   "id": "5b3824ec",
   "metadata": {},
   "source": [
    "Размер тренировочной выборки 175 записей, что составляет 58,3% от общего количества записей 300, и 125 тестовая выборка.\n",
    "\n",
    "Что результат разделения повторялся от запуска к запуску установили значение параметра random_state. "
   ]
  },
  {
   "cell_type": "markdown",
   "id": "a42dfd27",
   "metadata": {},
   "source": [
    "Импорт модуля для разбиения датасета на тренировочной и тестовый "
   ]
  },
  {
   "cell_type": "code",
   "execution_count": 16,
   "id": "bbbd9700",
   "metadata": {},
   "outputs": [],
   "source": [
    "from sklearn.model_selection import train_test_split\n",
    "\n",
    "\n",
    "X_train, X_test, y_train, y_test = train_test_split(X, y, train_size=0.583, random_state=42)"
   ]
  },
  {
   "cell_type": "markdown",
   "id": "f64bb1aa",
   "metadata": {},
   "source": [
    "Проверка разбиения"
   ]
  },
  {
   "cell_type": "code",
   "execution_count": 17,
   "id": "1373abf8",
   "metadata": {},
   "outputs": [
    {
     "name": "stdout",
     "output_type": "stream",
     "text": [
      "Количество строк в y_train по классам: [129  45]\n",
      "Количество строк в y_test по классам: [74 51]\n"
     ]
    }
   ],
   "source": [
    "import numpy as np\n",
    "\n",
    "\n",
    "print(f\"Количество строк в y_train по классам: {np.bincount(y_train)}\")\n",
    "print(f\"Количество строк в y_test по классам: {np.bincount(y_test)}\")"
   ]
  },
  {
   "cell_type": "markdown",
   "id": "23b6116c",
   "metadata": {},
   "source": [
    "## Разработка предсказательных моделей качественного отклика"
   ]
  },
  {
   "cell_type": "markdown",
   "id": "3b982d22",
   "metadata": {},
   "source": [
    "### Метод k- ближайших соседей"
   ]
  },
  {
   "cell_type": "markdown",
   "id": "c3f21ddf",
   "metadata": {},
   "source": [
    "Суть метода в отнесении объекта к какому-то классу на основании расстояния от него до центров кластеров, определённых моделью в процессе обучения.\n",
    "Для классификации методом К-ближайших соседей воспользовались моделью, предоставляемой модулем KNeighborsClassifier из библиотеки Scikit-learn.\n",
    "\n",
    "Обучение проводили на специально подготовленных данных X_train (объект-признаков) и y_train (вектор целевой переменной).\n",
    "Задали параметр n_neighbors = 4, который обозначает количество кластеров алгоритма K-ближайших соседей. Значение было получено в прошлой лабораторной работе при кластеризации агломеративно иерархическим методом."
   ]
  },
  {
   "cell_type": "markdown",
   "id": "3d566293",
   "metadata": {},
   "source": [
    "Импорт модели К-ближайших"
   ]
  },
  {
   "cell_type": "code",
   "execution_count": 18,
   "id": "049d15d5",
   "metadata": {},
   "outputs": [],
   "source": [
    "from sklearn.neighbors import KNeighborsClassifier"
   ]
  },
  {
   "cell_type": "markdown",
   "id": "7a1d88d1",
   "metadata": {},
   "source": [
    "Создание объекта модели"
   ]
  },
  {
   "cell_type": "code",
   "execution_count": 19,
   "id": "6c62cf03",
   "metadata": {},
   "outputs": [],
   "source": [
    "KNeighbors_model = KNeighborsClassifier(n_neighbors = 4)"
   ]
  },
  {
   "cell_type": "markdown",
   "id": "c01b8bd2",
   "metadata": {},
   "source": [
    "Обучение модели"
   ]
  },
  {
   "cell_type": "code",
   "execution_count": 20,
   "id": "6ea01f5f",
   "metadata": {},
   "outputs": [
    {
     "data": {
      "text/html": [
       "<style>#sk-container-id-1 {color: black;background-color: white;}#sk-container-id-1 pre{padding: 0;}#sk-container-id-1 div.sk-toggleable {background-color: white;}#sk-container-id-1 label.sk-toggleable__label {cursor: pointer;display: block;width: 100%;margin-bottom: 0;padding: 0.3em;box-sizing: border-box;text-align: center;}#sk-container-id-1 label.sk-toggleable__label-arrow:before {content: \"▸\";float: left;margin-right: 0.25em;color: #696969;}#sk-container-id-1 label.sk-toggleable__label-arrow:hover:before {color: black;}#sk-container-id-1 div.sk-estimator:hover label.sk-toggleable__label-arrow:before {color: black;}#sk-container-id-1 div.sk-toggleable__content {max-height: 0;max-width: 0;overflow: hidden;text-align: left;background-color: #f0f8ff;}#sk-container-id-1 div.sk-toggleable__content pre {margin: 0.2em;color: black;border-radius: 0.25em;background-color: #f0f8ff;}#sk-container-id-1 input.sk-toggleable__control:checked~div.sk-toggleable__content {max-height: 200px;max-width: 100%;overflow: auto;}#sk-container-id-1 input.sk-toggleable__control:checked~label.sk-toggleable__label-arrow:before {content: \"▾\";}#sk-container-id-1 div.sk-estimator input.sk-toggleable__control:checked~label.sk-toggleable__label {background-color: #d4ebff;}#sk-container-id-1 div.sk-label input.sk-toggleable__control:checked~label.sk-toggleable__label {background-color: #d4ebff;}#sk-container-id-1 input.sk-hidden--visually {border: 0;clip: rect(1px 1px 1px 1px);clip: rect(1px, 1px, 1px, 1px);height: 1px;margin: -1px;overflow: hidden;padding: 0;position: absolute;width: 1px;}#sk-container-id-1 div.sk-estimator {font-family: monospace;background-color: #f0f8ff;border: 1px dotted black;border-radius: 0.25em;box-sizing: border-box;margin-bottom: 0.5em;}#sk-container-id-1 div.sk-estimator:hover {background-color: #d4ebff;}#sk-container-id-1 div.sk-parallel-item::after {content: \"\";width: 100%;border-bottom: 1px solid gray;flex-grow: 1;}#sk-container-id-1 div.sk-label:hover label.sk-toggleable__label {background-color: #d4ebff;}#sk-container-id-1 div.sk-serial::before {content: \"\";position: absolute;border-left: 1px solid gray;box-sizing: border-box;top: 0;bottom: 0;left: 50%;z-index: 0;}#sk-container-id-1 div.sk-serial {display: flex;flex-direction: column;align-items: center;background-color: white;padding-right: 0.2em;padding-left: 0.2em;position: relative;}#sk-container-id-1 div.sk-item {position: relative;z-index: 1;}#sk-container-id-1 div.sk-parallel {display: flex;align-items: stretch;justify-content: center;background-color: white;position: relative;}#sk-container-id-1 div.sk-item::before, #sk-container-id-1 div.sk-parallel-item::before {content: \"\";position: absolute;border-left: 1px solid gray;box-sizing: border-box;top: 0;bottom: 0;left: 50%;z-index: -1;}#sk-container-id-1 div.sk-parallel-item {display: flex;flex-direction: column;z-index: 1;position: relative;background-color: white;}#sk-container-id-1 div.sk-parallel-item:first-child::after {align-self: flex-end;width: 50%;}#sk-container-id-1 div.sk-parallel-item:last-child::after {align-self: flex-start;width: 50%;}#sk-container-id-1 div.sk-parallel-item:only-child::after {width: 0;}#sk-container-id-1 div.sk-dashed-wrapped {border: 1px dashed gray;margin: 0 0.4em 0.5em 0.4em;box-sizing: border-box;padding-bottom: 0.4em;background-color: white;}#sk-container-id-1 div.sk-label label {font-family: monospace;font-weight: bold;display: inline-block;line-height: 1.2em;}#sk-container-id-1 div.sk-label-container {text-align: center;}#sk-container-id-1 div.sk-container {/* jupyter's `normalize.less` sets `[hidden] { display: none; }` but bootstrap.min.css set `[hidden] { display: none !important; }` so we also need the `!important` here to be able to override the default hidden behavior on the sphinx rendered scikit-learn.org. See: https://github.com/scikit-learn/scikit-learn/issues/21755 */display: inline-block !important;position: relative;}#sk-container-id-1 div.sk-text-repr-fallback {display: none;}</style><div id=\"sk-container-id-1\" class=\"sk-top-container\"><div class=\"sk-text-repr-fallback\"><pre>KNeighborsClassifier(n_neighbors=4)</pre><b>In a Jupyter environment, please rerun this cell to show the HTML representation or trust the notebook. <br />On GitHub, the HTML representation is unable to render, please try loading this page with nbviewer.org.</b></div><div class=\"sk-container\" hidden><div class=\"sk-item\"><div class=\"sk-estimator sk-toggleable\"><input class=\"sk-toggleable__control sk-hidden--visually\" id=\"sk-estimator-id-1\" type=\"checkbox\" checked><label for=\"sk-estimator-id-1\" class=\"sk-toggleable__label sk-toggleable__label-arrow\">KNeighborsClassifier</label><div class=\"sk-toggleable__content\"><pre>KNeighborsClassifier(n_neighbors=4)</pre></div></div></div></div></div>"
      ],
      "text/plain": [
       "KNeighborsClassifier(n_neighbors=4)"
      ]
     },
     "execution_count": 20,
     "metadata": {},
     "output_type": "execute_result"
    }
   ],
   "source": [
    "KNeighbors_model.fit(X_train, y_train)"
   ]
  },
  {
   "cell_type": "markdown",
   "id": "7047bcda",
   "metadata": {},
   "source": [
    "Сделали предсказание для тестовой части данных (X_test)"
   ]
  },
  {
   "cell_type": "code",
   "execution_count": 21,
   "id": "25450505",
   "metadata": {},
   "outputs": [],
   "source": [
    "KNeighbors_pred = KNeighbors_model.predict(X_test)"
   ]
  },
  {
   "cell_type": "markdown",
   "id": "601b848e",
   "metadata": {},
   "source": [
    "### Логистическая регрессия"
   ]
  },
  {
   "cell_type": "markdown",
   "id": "c78eefd1",
   "metadata": {},
   "source": [
    "Суть метода в отнесении объекта к какому-то классу на основании его положения относительно плоскости, которая разбивает пространство объектов на кластеры (в нашем случае на два кластера). Положение плоскости в пространстве объектов определяется моделью в ходе обучения.\n",
    "Для классификации методом Логической регрессии воспользовались моделью, предоставляемой модулем LogisticRegression из библиотеки Scikit-learn.\n",
    "\n",
    "Обучение проводили на специально подготовленных данных X_train (объект-признаков) и y_train (вектор целевой переменной)."
   ]
  },
  {
   "cell_type": "markdown",
   "id": "f9749db0",
   "metadata": {},
   "source": [
    "Импорт модели К-ближайших"
   ]
  },
  {
   "cell_type": "code",
   "execution_count": 22,
   "id": "1be968bb",
   "metadata": {},
   "outputs": [],
   "source": [
    "from sklearn.linear_model import LogisticRegression"
   ]
  },
  {
   "cell_type": "markdown",
   "id": "ad9567a3",
   "metadata": {},
   "source": [
    "Создание объекта модели"
   ]
  },
  {
   "cell_type": "code",
   "execution_count": 23,
   "id": "e9a50878",
   "metadata": {},
   "outputs": [],
   "source": [
    "LogisticReg_model = LogisticRegression()"
   ]
  },
  {
   "cell_type": "markdown",
   "id": "232e2b09",
   "metadata": {},
   "source": [
    "Обучение модели"
   ]
  },
  {
   "cell_type": "code",
   "execution_count": 24,
   "id": "a1578ee0",
   "metadata": {},
   "outputs": [
    {
     "data": {
      "text/html": [
       "<style>#sk-container-id-2 {color: black;background-color: white;}#sk-container-id-2 pre{padding: 0;}#sk-container-id-2 div.sk-toggleable {background-color: white;}#sk-container-id-2 label.sk-toggleable__label {cursor: pointer;display: block;width: 100%;margin-bottom: 0;padding: 0.3em;box-sizing: border-box;text-align: center;}#sk-container-id-2 label.sk-toggleable__label-arrow:before {content: \"▸\";float: left;margin-right: 0.25em;color: #696969;}#sk-container-id-2 label.sk-toggleable__label-arrow:hover:before {color: black;}#sk-container-id-2 div.sk-estimator:hover label.sk-toggleable__label-arrow:before {color: black;}#sk-container-id-2 div.sk-toggleable__content {max-height: 0;max-width: 0;overflow: hidden;text-align: left;background-color: #f0f8ff;}#sk-container-id-2 div.sk-toggleable__content pre {margin: 0.2em;color: black;border-radius: 0.25em;background-color: #f0f8ff;}#sk-container-id-2 input.sk-toggleable__control:checked~div.sk-toggleable__content {max-height: 200px;max-width: 100%;overflow: auto;}#sk-container-id-2 input.sk-toggleable__control:checked~label.sk-toggleable__label-arrow:before {content: \"▾\";}#sk-container-id-2 div.sk-estimator input.sk-toggleable__control:checked~label.sk-toggleable__label {background-color: #d4ebff;}#sk-container-id-2 div.sk-label input.sk-toggleable__control:checked~label.sk-toggleable__label {background-color: #d4ebff;}#sk-container-id-2 input.sk-hidden--visually {border: 0;clip: rect(1px 1px 1px 1px);clip: rect(1px, 1px, 1px, 1px);height: 1px;margin: -1px;overflow: hidden;padding: 0;position: absolute;width: 1px;}#sk-container-id-2 div.sk-estimator {font-family: monospace;background-color: #f0f8ff;border: 1px dotted black;border-radius: 0.25em;box-sizing: border-box;margin-bottom: 0.5em;}#sk-container-id-2 div.sk-estimator:hover {background-color: #d4ebff;}#sk-container-id-2 div.sk-parallel-item::after {content: \"\";width: 100%;border-bottom: 1px solid gray;flex-grow: 1;}#sk-container-id-2 div.sk-label:hover label.sk-toggleable__label {background-color: #d4ebff;}#sk-container-id-2 div.sk-serial::before {content: \"\";position: absolute;border-left: 1px solid gray;box-sizing: border-box;top: 0;bottom: 0;left: 50%;z-index: 0;}#sk-container-id-2 div.sk-serial {display: flex;flex-direction: column;align-items: center;background-color: white;padding-right: 0.2em;padding-left: 0.2em;position: relative;}#sk-container-id-2 div.sk-item {position: relative;z-index: 1;}#sk-container-id-2 div.sk-parallel {display: flex;align-items: stretch;justify-content: center;background-color: white;position: relative;}#sk-container-id-2 div.sk-item::before, #sk-container-id-2 div.sk-parallel-item::before {content: \"\";position: absolute;border-left: 1px solid gray;box-sizing: border-box;top: 0;bottom: 0;left: 50%;z-index: -1;}#sk-container-id-2 div.sk-parallel-item {display: flex;flex-direction: column;z-index: 1;position: relative;background-color: white;}#sk-container-id-2 div.sk-parallel-item:first-child::after {align-self: flex-end;width: 50%;}#sk-container-id-2 div.sk-parallel-item:last-child::after {align-self: flex-start;width: 50%;}#sk-container-id-2 div.sk-parallel-item:only-child::after {width: 0;}#sk-container-id-2 div.sk-dashed-wrapped {border: 1px dashed gray;margin: 0 0.4em 0.5em 0.4em;box-sizing: border-box;padding-bottom: 0.4em;background-color: white;}#sk-container-id-2 div.sk-label label {font-family: monospace;font-weight: bold;display: inline-block;line-height: 1.2em;}#sk-container-id-2 div.sk-label-container {text-align: center;}#sk-container-id-2 div.sk-container {/* jupyter's `normalize.less` sets `[hidden] { display: none; }` but bootstrap.min.css set `[hidden] { display: none !important; }` so we also need the `!important` here to be able to override the default hidden behavior on the sphinx rendered scikit-learn.org. See: https://github.com/scikit-learn/scikit-learn/issues/21755 */display: inline-block !important;position: relative;}#sk-container-id-2 div.sk-text-repr-fallback {display: none;}</style><div id=\"sk-container-id-2\" class=\"sk-top-container\"><div class=\"sk-text-repr-fallback\"><pre>LogisticRegression()</pre><b>In a Jupyter environment, please rerun this cell to show the HTML representation or trust the notebook. <br />On GitHub, the HTML representation is unable to render, please try loading this page with nbviewer.org.</b></div><div class=\"sk-container\" hidden><div class=\"sk-item\"><div class=\"sk-estimator sk-toggleable\"><input class=\"sk-toggleable__control sk-hidden--visually\" id=\"sk-estimator-id-2\" type=\"checkbox\" checked><label for=\"sk-estimator-id-2\" class=\"sk-toggleable__label sk-toggleable__label-arrow\">LogisticRegression</label><div class=\"sk-toggleable__content\"><pre>LogisticRegression()</pre></div></div></div></div></div>"
      ],
      "text/plain": [
       "LogisticRegression()"
      ]
     },
     "execution_count": 24,
     "metadata": {},
     "output_type": "execute_result"
    }
   ],
   "source": [
    "LogisticReg_model.fit(X_train, y_train)"
   ]
  },
  {
   "cell_type": "markdown",
   "id": "8e5dd7b3",
   "metadata": {},
   "source": [
    "Сделали предсказание для тестовой части данных (X_test)"
   ]
  },
  {
   "cell_type": "markdown",
   "id": "0d340a60",
   "metadata": {},
   "source": [
    "Делаем предсказание"
   ]
  },
  {
   "cell_type": "code",
   "execution_count": 25,
   "id": "0d127da6",
   "metadata": {},
   "outputs": [],
   "source": [
    "LogisticReg_pred = LogisticReg_model.predict(X_test)"
   ]
  },
  {
   "cell_type": "markdown",
   "id": "026b04f0",
   "metadata": {},
   "source": [
    "### Случайный лес"
   ]
  },
  {
   "cell_type": "markdown",
   "id": "930fadb2",
   "metadata": {},
   "source": [
    "Суть метода состоит в использовании нескольких решающих деревьев. Само по себе решающее дерево предоставляет крайне невысокое качество классификации, но из-за большого их количества результат значительно улучшается.\n",
    "Для классификации методом Случайный лес воспользовались моделью, предоставляемой модулем RandomForestClassifier из библиотеки Scikit-learn.\n",
    "\n",
    "Обучение проводили на специально подготовленных данных X_train (объект-признаков) и y_train (вектор целевой переменной)."
   ]
  },
  {
   "cell_type": "markdown",
   "id": "afda452f",
   "metadata": {},
   "source": [
    "Импорт модели Случайный лес"
   ]
  },
  {
   "cell_type": "code",
   "execution_count": 26,
   "id": "3af5d4d2",
   "metadata": {},
   "outputs": [],
   "source": [
    "from sklearn.ensemble import RandomForestClassifier"
   ]
  },
  {
   "cell_type": "markdown",
   "id": "cc3ca01a",
   "metadata": {},
   "source": [
    "Создание объекта модели"
   ]
  },
  {
   "cell_type": "code",
   "execution_count": 27,
   "id": "e72b5f18",
   "metadata": {},
   "outputs": [],
   "source": [
    "RandForest_model = RandomForestClassifier()"
   ]
  },
  {
   "cell_type": "markdown",
   "id": "2ffde7f5",
   "metadata": {},
   "source": [
    "Обучение модели"
   ]
  },
  {
   "cell_type": "code",
   "execution_count": 28,
   "id": "51eeb997",
   "metadata": {},
   "outputs": [
    {
     "data": {
      "text/html": [
       "<style>#sk-container-id-3 {color: black;background-color: white;}#sk-container-id-3 pre{padding: 0;}#sk-container-id-3 div.sk-toggleable {background-color: white;}#sk-container-id-3 label.sk-toggleable__label {cursor: pointer;display: block;width: 100%;margin-bottom: 0;padding: 0.3em;box-sizing: border-box;text-align: center;}#sk-container-id-3 label.sk-toggleable__label-arrow:before {content: \"▸\";float: left;margin-right: 0.25em;color: #696969;}#sk-container-id-3 label.sk-toggleable__label-arrow:hover:before {color: black;}#sk-container-id-3 div.sk-estimator:hover label.sk-toggleable__label-arrow:before {color: black;}#sk-container-id-3 div.sk-toggleable__content {max-height: 0;max-width: 0;overflow: hidden;text-align: left;background-color: #f0f8ff;}#sk-container-id-3 div.sk-toggleable__content pre {margin: 0.2em;color: black;border-radius: 0.25em;background-color: #f0f8ff;}#sk-container-id-3 input.sk-toggleable__control:checked~div.sk-toggleable__content {max-height: 200px;max-width: 100%;overflow: auto;}#sk-container-id-3 input.sk-toggleable__control:checked~label.sk-toggleable__label-arrow:before {content: \"▾\";}#sk-container-id-3 div.sk-estimator input.sk-toggleable__control:checked~label.sk-toggleable__label {background-color: #d4ebff;}#sk-container-id-3 div.sk-label input.sk-toggleable__control:checked~label.sk-toggleable__label {background-color: #d4ebff;}#sk-container-id-3 input.sk-hidden--visually {border: 0;clip: rect(1px 1px 1px 1px);clip: rect(1px, 1px, 1px, 1px);height: 1px;margin: -1px;overflow: hidden;padding: 0;position: absolute;width: 1px;}#sk-container-id-3 div.sk-estimator {font-family: monospace;background-color: #f0f8ff;border: 1px dotted black;border-radius: 0.25em;box-sizing: border-box;margin-bottom: 0.5em;}#sk-container-id-3 div.sk-estimator:hover {background-color: #d4ebff;}#sk-container-id-3 div.sk-parallel-item::after {content: \"\";width: 100%;border-bottom: 1px solid gray;flex-grow: 1;}#sk-container-id-3 div.sk-label:hover label.sk-toggleable__label {background-color: #d4ebff;}#sk-container-id-3 div.sk-serial::before {content: \"\";position: absolute;border-left: 1px solid gray;box-sizing: border-box;top: 0;bottom: 0;left: 50%;z-index: 0;}#sk-container-id-3 div.sk-serial {display: flex;flex-direction: column;align-items: center;background-color: white;padding-right: 0.2em;padding-left: 0.2em;position: relative;}#sk-container-id-3 div.sk-item {position: relative;z-index: 1;}#sk-container-id-3 div.sk-parallel {display: flex;align-items: stretch;justify-content: center;background-color: white;position: relative;}#sk-container-id-3 div.sk-item::before, #sk-container-id-3 div.sk-parallel-item::before {content: \"\";position: absolute;border-left: 1px solid gray;box-sizing: border-box;top: 0;bottom: 0;left: 50%;z-index: -1;}#sk-container-id-3 div.sk-parallel-item {display: flex;flex-direction: column;z-index: 1;position: relative;background-color: white;}#sk-container-id-3 div.sk-parallel-item:first-child::after {align-self: flex-end;width: 50%;}#sk-container-id-3 div.sk-parallel-item:last-child::after {align-self: flex-start;width: 50%;}#sk-container-id-3 div.sk-parallel-item:only-child::after {width: 0;}#sk-container-id-3 div.sk-dashed-wrapped {border: 1px dashed gray;margin: 0 0.4em 0.5em 0.4em;box-sizing: border-box;padding-bottom: 0.4em;background-color: white;}#sk-container-id-3 div.sk-label label {font-family: monospace;font-weight: bold;display: inline-block;line-height: 1.2em;}#sk-container-id-3 div.sk-label-container {text-align: center;}#sk-container-id-3 div.sk-container {/* jupyter's `normalize.less` sets `[hidden] { display: none; }` but bootstrap.min.css set `[hidden] { display: none !important; }` so we also need the `!important` here to be able to override the default hidden behavior on the sphinx rendered scikit-learn.org. See: https://github.com/scikit-learn/scikit-learn/issues/21755 */display: inline-block !important;position: relative;}#sk-container-id-3 div.sk-text-repr-fallback {display: none;}</style><div id=\"sk-container-id-3\" class=\"sk-top-container\"><div class=\"sk-text-repr-fallback\"><pre>RandomForestClassifier()</pre><b>In a Jupyter environment, please rerun this cell to show the HTML representation or trust the notebook. <br />On GitHub, the HTML representation is unable to render, please try loading this page with nbviewer.org.</b></div><div class=\"sk-container\" hidden><div class=\"sk-item\"><div class=\"sk-estimator sk-toggleable\"><input class=\"sk-toggleable__control sk-hidden--visually\" id=\"sk-estimator-id-3\" type=\"checkbox\" checked><label for=\"sk-estimator-id-3\" class=\"sk-toggleable__label sk-toggleable__label-arrow\">RandomForestClassifier</label><div class=\"sk-toggleable__content\"><pre>RandomForestClassifier()</pre></div></div></div></div></div>"
      ],
      "text/plain": [
       "RandomForestClassifier()"
      ]
     },
     "execution_count": 28,
     "metadata": {},
     "output_type": "execute_result"
    }
   ],
   "source": [
    "RandForest_model.fit(X_train, y_train)"
   ]
  },
  {
   "cell_type": "markdown",
   "id": "6cf4639a",
   "metadata": {},
   "source": [
    "Сделали предсказание для тестовой части данных (X_test)"
   ]
  },
  {
   "cell_type": "markdown",
   "id": "e358c188",
   "metadata": {},
   "source": [
    "Делаем предсказание"
   ]
  },
  {
   "cell_type": "code",
   "execution_count": 29,
   "id": "8690ae7c",
   "metadata": {},
   "outputs": [],
   "source": [
    "RandForest_pred = RandForest_model.predict(X_test)"
   ]
  },
  {
   "cell_type": "markdown",
   "id": "2d7e0b1d",
   "metadata": {},
   "source": [
    "## Оценка ошибок классификации"
   ]
  },
  {
   "cell_type": "markdown",
   "id": "5aa19819",
   "metadata": {},
   "source": [
    "### Метрика \"Accuracy\" (Доля правильных ответов)"
   ]
  },
  {
   "cell_type": "markdown",
   "id": "013dbc73",
   "metadata": {},
   "source": [
    "Метрика показывает процент значений, которые модель угадала правильно при проверке на тестовых данных."
   ]
  },
  {
   "cell_type": "markdown",
   "id": "455e6324",
   "metadata": {},
   "source": [
    "Импорт метода для метрики \"Accuracy\""
   ]
  },
  {
   "cell_type": "code",
   "execution_count": 30,
   "id": "ce3c93d1",
   "metadata": {},
   "outputs": [
    {
     "name": "stdout",
     "output_type": "stream",
     "text": [
      "Оценка метрики \"Accuracy\" (Доля правильных ответов) для моделей:\n",
      "\t> \"К-ближайших\"          : 0.616\n",
      "\t> \"Логическая регрессия\" : 0.728\n",
      "\t> \"Случайный лес\"        : 0.76\n"
     ]
    }
   ],
   "source": [
    "from sklearn.metrics import accuracy_score\n",
    "\n",
    "\n",
    "model_list = [['\"К-ближайших\"          :', KNeighbors_pred],\n",
    "              ['\"Логическая регрессия\" :', LogisticReg_pred],\n",
    "              ['\"Случайный лес\"        :', RandForest_pred]]\n",
    "\n",
    "print('Оценка метрики \"Accuracy\" (Доля правильных ответов) для моделей:')\n",
    "for pred in model_list:\n",
    "  score = accuracy_score(y_test, pred[1])\n",
    "  print('\\t>', pred[0], round(score, 4))"
   ]
  },
  {
   "cell_type": "markdown",
   "id": "190fbaca",
   "metadata": {},
   "source": [
    "Самый лучший результат у модели Случайный лес точность предсказаний 76%, Логическая регрессия показала схожий, но немного хуже результат, а К-ближайших показал лишь 61%."
   ]
  },
  {
   "cell_type": "markdown",
   "id": "4e41a8fb",
   "metadata": {},
   "source": [
    "### Метрика \"Balanced accuracy\" (Cбалансированная точность)"
   ]
  },
  {
   "cell_type": "markdown",
   "id": "892dd0f6",
   "metadata": {},
   "source": [
    "Показывает среднюю точность для классов, используется для оценки несбалансированных классов."
   ]
  },
  {
   "cell_type": "markdown",
   "id": "82a7abd1",
   "metadata": {},
   "source": [
    "Импорт метода для метрики \"Balanced accuracy\""
   ]
  },
  {
   "cell_type": "code",
   "execution_count": 31,
   "id": "56e8d32b",
   "metadata": {},
   "outputs": [
    {
     "name": "stdout",
     "output_type": "stream",
     "text": [
      "Оценка метрики \"Balanced accuracy\" (Cбалансированная точность) для моделей:\n",
      "\t> \"К-ближайших\"          : 0.5294\n",
      "\t> \"Логическая регрессия\" : 0.6667\n",
      "\t> \"Случайный лес\"        : 0.715\n"
     ]
    }
   ],
   "source": [
    "from sklearn.metrics import balanced_accuracy_score\n",
    "\n",
    "\n",
    "model_list = [['\"К-ближайших\"          :', KNeighbors_pred],\n",
    "              ['\"Логическая регрессия\" :', LogisticReg_pred],\n",
    "              ['\"Случайный лес\"        :', RandForest_pred]]\n",
    "\n",
    "print('Оценка метрики \"Balanced accuracy\" (Cбалансированная точность) для моделей:')\n",
    "for pred in model_list:\n",
    "  score = balanced_accuracy_score(y_test, pred[1]) # Оценка для модели\n",
    "  print('\\t>', pred[0], round(score, 4))"
   ]
  },
  {
   "cell_type": "markdown",
   "id": "8219fc94",
   "metadata": {},
   "source": [
    "Самый лучший результат у модели Случайный лес точность предсказаний 71%, Логическая регрессия показала схожий, но немного хуже результат, а К-ближайших показал 52%."
   ]
  },
  {
   "cell_type": "markdown",
   "id": "e747891c",
   "metadata": {},
   "source": [
    "### Метрика \"Precision\" (Точность)"
   ]
  },
  {
   "cell_type": "markdown",
   "id": "764b4b01",
   "metadata": {},
   "source": [
    "Метрика показывает какая доля прогнозов относительно \"1\" класса верна. То есть смотрим долю правильных ответов только среди целевого класса."
   ]
  },
  {
   "cell_type": "markdown",
   "id": "74a18a06",
   "metadata": {},
   "source": [
    "Импорт метода для метрики \"Precision\""
   ]
  },
  {
   "cell_type": "code",
   "execution_count": 32,
   "id": "4f9b5485",
   "metadata": {},
   "outputs": [
    {
     "name": "stdout",
     "output_type": "stream",
     "text": [
      "Оценка метрики \"Precision\" (Точность) для моделей:\n",
      "\t> \"К-ближайших\"          : 1.0\n",
      "\t> \"Логическая регрессия\" : 1.0\n",
      "\t> \"Случайный лес\"        : 0.8889\n"
     ]
    }
   ],
   "source": [
    "from sklearn.metrics import precision_score\n",
    "\n",
    "\n",
    "model_list = [['\"К-ближайших\"          :', KNeighbors_pred],\n",
    "              ['\"Логическая регрессия\" :', LogisticReg_pred],\n",
    "              ['\"Случайный лес\"        :', RandForest_pred]]\n",
    "\n",
    "print('Оценка метрики \"Precision\" (Точность) для моделей:')\n",
    "for pred in model_list:\n",
    "  score = precision_score(y_test, pred[1]) # Оценка для модели\n",
    "  print('\\t>', pred[0], round(score, 4))"
   ]
  },
  {
   "cell_type": "markdown",
   "id": "e85c5425",
   "metadata": {},
   "source": [
    "Лучший результат у K-ближайших и Логрега - 100%, RandForest - 92%"
   ]
  },
  {
   "cell_type": "markdown",
   "id": "4a6ff966",
   "metadata": {},
   "source": [
    "### Метрика \"Recall\" (Полнота)"
   ]
  },
  {
   "cell_type": "markdown",
   "id": "df309f9c",
   "metadata": {},
   "source": [
    "Импорт метода для метрики \"Recall\""
   ]
  },
  {
   "cell_type": "code",
   "execution_count": 33,
   "id": "b2b003c2",
   "metadata": {},
   "outputs": [
    {
     "name": "stdout",
     "output_type": "stream",
     "text": [
      "Оценка метрики \"Recall\" (Полнота) для моделей:\n",
      "\t> \"К-ближайших\"          : 0.0588\n",
      "\t> \"Логическая регрессия\" : 0.3333\n",
      "\t> \"Случайный лес\"        : 0.4706\n"
     ]
    }
   ],
   "source": [
    "from sklearn.metrics import recall_score\n",
    "\n",
    "\n",
    "model_list = [['\"К-ближайших\"          :', KNeighbors_pred],\n",
    "              ['\"Логическая регрессия\" :', LogisticReg_pred],\n",
    "              ['\"Случайный лес\"        :', RandForest_pred]]\n",
    "\n",
    "print('Оценка метрики \"Recall\" (Полнота) для моделей:')\n",
    "for pred in model_list:\n",
    "  score = recall_score(y_test, pred[1]) # Оценка для модели\n",
    "  print('\\t>', pred[0], round(score, 4))"
   ]
  },
  {
   "attachments": {},
   "cell_type": "markdown",
   "id": "874555ad",
   "metadata": {},
   "source": [
    "Самый лучший результат у модели Случайный лес точность предсказаний 47%, Логическая регрессия показала схожий, но немного хуже результат, а К-ближайших составил всего около 6%."
   ]
  },
  {
   "cell_type": "markdown",
   "id": "b19d005a",
   "metadata": {},
   "source": [
    "### Метрика 'F1 score' (F-мера, Сбалансированная Точность/Полнота)"
   ]
  },
  {
   "cell_type": "markdown",
   "id": "fe747938",
   "metadata": {},
   "source": [
    "Импорт метода для метрики \"F1 score\""
   ]
  },
  {
   "cell_type": "code",
   "execution_count": 34,
   "id": "80594123",
   "metadata": {},
   "outputs": [
    {
     "name": "stdout",
     "output_type": "stream",
     "text": [
      "Оценка метрики \"F1 score\" (F-мера) для моделей:\n",
      "\t> \"К-ближайших\"          : 0.1111\n",
      "\t> \"Логическая регрессия\" : 0.5\n",
      "\t> \"Случайный лес\"        : 0.6154\n"
     ]
    }
   ],
   "source": [
    "from sklearn.metrics import f1_score\n",
    "\n",
    "\n",
    "model_list = [['\"К-ближайших\"          :', KNeighbors_pred],\n",
    "              ['\"Логическая регрессия\" :', LogisticReg_pred],\n",
    "              ['\"Случайный лес\"        :', RandForest_pred]]\n",
    "\n",
    "print('Оценка метрики \"F1 score\" (F-мера) для моделей:')\n",
    "for pred in model_list:\n",
    "  score = f1_score(y_test, pred[1])\n",
    "  print('\\t>', pred[0], round(score, 4))"
   ]
  },
  {
   "cell_type": "code",
   "execution_count": null,
   "id": "94490b40",
   "metadata": {},
   "outputs": [],
   "source": []
  },
  {
   "cell_type": "markdown",
   "id": "fd20a520",
   "metadata": {},
   "source": [
    "## Матрица неточностей"
   ]
  },
  {
   "cell_type": "markdown",
   "id": "c9fadb64",
   "metadata": {},
   "source": [
    "Данная матрица дает количественную оценку предсказаний данных моделью, показывая сколько положительных и отрицательных значений угадано верно и ошибочно.\n",
    "\n",
    "На основании данной матрицы производятся расчеты всех ранее полученных метрик, а на основании группы таких матриц, полученных при разных пороговых значениях, строится ROC-кривая."
   ]
  },
  {
   "cell_type": "markdown",
   "id": "d45cf59e",
   "metadata": {},
   "source": [
    "Импорт модуля для построения Матрицы неточностей"
   ]
  },
  {
   "cell_type": "code",
   "execution_count": 35,
   "id": "f4d269e9",
   "metadata": {},
   "outputs": [
    {
     "data": {
      "image/png": "[encoded data removed]",
      "text/plain": [
       "<Figure size 2000x500 with 6 Axes>"
      ]
     },
     "metadata": {},
     "output_type": "display_data"
    }
   ],
   "source": [
    "from sklearn.metrics import confusion_matrix\n",
    "from matplotlib import pyplot as plt\n",
    "from seaborn import heatmap\n",
    "\n",
    "\n",
    "model_list = [['\"К-ближайших\"', KNeighbors_pred],\n",
    "              ['\"Логическая регрессия\"', LogisticReg_pred],\n",
    "              ['\"Случайный лес\"', RandForest_pred]]\n",
    "\n",
    "fig, axis = plt.subplots(1, 3, figsize=(20, 5))\n",
    "fig.suptitle('Матрицы неточностей для моделей')\n",
    "\n",
    "for idx, pred in enumerate(model_list):\n",
    "  heatmap(confusion_matrix(y_test, pred[1]), annot=True, fmt=\".0f\", square=True, ax=axis[idx])\n",
    "  axis[idx].set_title(pred[0])\n",
    "  axis[idx].set_xlabel('Predicted label')\n",
    "  axis[idx].set_ylabel('True label')"
   ]
  },
  {
   "cell_type": "markdown",
   "id": "ae4d1a8e",
   "metadata": {},
   "source": [
    "## Графики ROC-кривой"
   ]
  },
  {
   "cell_type": "markdown",
   "id": "c0344315",
   "metadata": {},
   "source": [
    "График ROC-кривой позволяет оценить при каком пороговом значении модель будет давать лучший результат при классификации данных.\n",
    "\n",
    "Метрика AUC — это площадь под кривой ROC.\n",
    "\n",
    "Общее правило гласит, чтобы определить оптимальную точку на кривой ROC, нужно максимизировать разницу (True Positive Rate (TPR) - False Positive Rate (FPR)), которая на графике представлена вертикальным расстоянием между полученной ROC-кривой и диагональной линией из точки (0, 0) в (1, 1).\n"
   ]
  },
  {
   "cell_type": "markdown",
   "id": "74ced9a8",
   "metadata": {},
   "source": [
    "Импорт модуля для построения "
   ]
  },
  {
   "cell_type": "code",
   "execution_count": 36,
   "id": "9b170778",
   "metadata": {},
   "outputs": [
    {
     "data": {
      "image/png": "[encoded data removed]",
      "text/plain": [
       "<Figure size 1600x1600 with 1 Axes>"
      ]
     },
     "metadata": {},
     "output_type": "display_data"
    }
   ],
   "source": [
    "from sklearn.metrics import RocCurveDisplay\n",
    "from matplotlib import pyplot as plt\n",
    "\n",
    "model_list = [['\"К-ближайших\"', KNeighbors_model],\n",
    "              ['\"Логическая регрессия\"', LogisticReg_model],\n",
    "              ['\"Случайный лес\"', RandForest_model]]\n",
    "\n",
    "fig, axis = plt.subplots(figsize=(16, 16))\n",
    "fig.suptitle('ROC-кривые для моделей')\n",
    "\n",
    "for idx, model in enumerate(model_list):\n",
    "  RocCurveDisplay.from_estimator(model[1], X_test, y_test, ax=axis)\n",
    "  axis.set_xlabel('False Positive Rate')\n",
    "  axis.set_ylabel('True Positive Rate')"
   ]
  },
  {
   "cell_type": "markdown",
   "id": "bfa3cd3d",
   "metadata": {},
   "source": [
    "Оценка AUC показывает неплохие результаты для всех моделей, но самый лучший у моделей Логической регрессии и Случайного леса."
   ]
  },
  {
   "cell_type": "markdown",
   "id": "01d7a823",
   "metadata": {},
   "source": [
    "## Вывод\n",
    "В ходе данной лабораторной работы мы подготовили датасет, провели на этих данных обучение различных моделей для задачи классификации и провели оценку качества.\n",
    "Затем, чтобы можно было провести обучение моделей классификации, стандартизировали данные, чтобы установить подходящие размерности параметров.\n",
    "Обучили три различные модели с применением методов K-ближайших соседей, Логической регрессии и Случайного леса.\n",
    "Для нашей задачи лучше всего себя показала модель классификатора на основе метода Случайного леса, почти во всех метриках она ледировала. Кроме метрики \"Precision\", там 100% показали другие модели.\n"
   ]
  }
 ],
 "metadata": {
  "kernelspec": {
   "display_name": "Python 3 (ipykernel)",
   "language": "python",
   "name": "python3"
  },
  "language_info": {
   "codemirror_mode": {
    "name": "ipython",
    "version": 3
   },
   "file_extension": ".py",
   "mimetype": "text/x-python",
   "name": "python",
   "nbconvert_exporter": "python",
   "pygments_lexer": "ipython3",
   "version": "3.10.7"
  }
 },
 "nbformat": 4,
 "nbformat_minor": 5
}
