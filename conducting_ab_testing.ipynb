{
 "cells": [
  {
   "cell_type": "markdown",
   "metadata": {
    "id": "zLie8C5HGfDh"
   },
   "source": [
    "## Conducting A/B testing"
   ]
  },
  {
   "cell_type": "markdown",
   "metadata": {},
   "source": [
    "Connecting libraries and preparing the dataset:"
   ]
  },
  {
   "cell_type": "code",
   "execution_count": 1,
   "metadata": {
    "id": "af40758b"
   },
   "outputs": [],
   "source": [
    "import pandas as pd\n",
    "import numpy as np\n",
    "import math\n",
    "from scipy import stats\n",
    "import matplotlib.pyplot as plt"
   ]
  },
  {
   "cell_type": "code",
   "execution_count": 2,
   "metadata": {
    "id": "ff598512"
   },
   "outputs": [],
   "source": [
    "orders = pd.read_csv('orders.csv', delimiter=',')\n",
    "visitors = pd.read_csv('visitors.csv', delimiter=',')"
   ]
  },
  {
   "cell_type": "code",
   "execution_count": 25,
   "metadata": {
    "colab": {
     "base_uri": "https://localhost:8080/",
     "height": 206
    },
    "id": "22af2509",
    "outputId": "bea699a3-4e36-4a1c-949d-0842e984f385"
   },
   "outputs": [
    {
     "data": {
      "text/html": [
       "<div>\n",
       "<style scoped>\n",
       "    .dataframe tbody tr th:only-of-type {\n",
       "        vertical-align: middle;\n",
       "    }\n",
       "\n",
       "    .dataframe tbody tr th {\n",
       "        vertical-align: top;\n",
       "    }\n",
       "\n",
       "    .dataframe thead th {\n",
       "        text-align: right;\n",
       "    }\n",
       "</style>\n",
       "<table border=\"1\" class=\"dataframe\">\n",
       "  <thead>\n",
       "    <tr style=\"text-align: right;\">\n",
       "      <th></th>\n",
       "      <th>transactionId</th>\n",
       "      <th>visitorId</th>\n",
       "      <th>date</th>\n",
       "      <th>revenue</th>\n",
       "      <th>group</th>\n",
       "    </tr>\n",
       "  </thead>\n",
       "  <tbody>\n",
       "    <tr>\n",
       "      <th>0</th>\n",
       "      <td>3667963787</td>\n",
       "      <td>3312258926</td>\n",
       "      <td>2019-08-15</td>\n",
       "      <td>1650</td>\n",
       "      <td>B</td>\n",
       "    </tr>\n",
       "    <tr>\n",
       "      <th>1</th>\n",
       "      <td>2804400009</td>\n",
       "      <td>3642806036</td>\n",
       "      <td>2019-08-15</td>\n",
       "      <td>730</td>\n",
       "      <td>B</td>\n",
       "    </tr>\n",
       "    <tr>\n",
       "      <th>3</th>\n",
       "      <td>3797467345</td>\n",
       "      <td>1196621759</td>\n",
       "      <td>2019-08-15</td>\n",
       "      <td>9759</td>\n",
       "      <td>B</td>\n",
       "    </tr>\n",
       "    <tr>\n",
       "      <th>4</th>\n",
       "      <td>2282983706</td>\n",
       "      <td>2322279887</td>\n",
       "      <td>2019-08-15</td>\n",
       "      <td>2308</td>\n",
       "      <td>B</td>\n",
       "    </tr>\n",
       "    <tr>\n",
       "      <th>5</th>\n",
       "      <td>182168103</td>\n",
       "      <td>935554773</td>\n",
       "      <td>2019-08-15</td>\n",
       "      <td>2210</td>\n",
       "      <td>B</td>\n",
       "    </tr>\n",
       "    <tr>\n",
       "      <th>6</th>\n",
       "      <td>398296753</td>\n",
       "      <td>2900797465</td>\n",
       "      <td>2019-08-15</td>\n",
       "      <td>1860</td>\n",
       "      <td>B</td>\n",
       "    </tr>\n",
       "    <tr>\n",
       "      <th>7</th>\n",
       "      <td>2626614568</td>\n",
       "      <td>78758296</td>\n",
       "      <td>2019-08-15</td>\n",
       "      <td>1044</td>\n",
       "      <td>A</td>\n",
       "    </tr>\n",
       "    <tr>\n",
       "      <th>8</th>\n",
       "      <td>1576988021</td>\n",
       "      <td>295230930</td>\n",
       "      <td>2019-08-15</td>\n",
       "      <td>13710</td>\n",
       "      <td>A</td>\n",
       "    </tr>\n",
       "    <tr>\n",
       "      <th>9</th>\n",
       "      <td>1506739906</td>\n",
       "      <td>1882260405</td>\n",
       "      <td>2019-08-15</td>\n",
       "      <td>1855</td>\n",
       "      <td>B</td>\n",
       "    </tr>\n",
       "    <tr>\n",
       "      <th>10</th>\n",
       "      <td>3649131742</td>\n",
       "      <td>879864040</td>\n",
       "      <td>2019-08-15</td>\n",
       "      <td>4008</td>\n",
       "      <td>A</td>\n",
       "    </tr>\n",
       "  </tbody>\n",
       "</table>\n",
       "</div>"
      ],
      "text/plain": [
       "    transactionId   visitorId       date  revenue group\n",
       "0      3667963787  3312258926 2019-08-15     1650     B\n",
       "1      2804400009  3642806036 2019-08-15      730     B\n",
       "3      3797467345  1196621759 2019-08-15     9759     B\n",
       "4      2282983706  2322279887 2019-08-15     2308     B\n",
       "5       182168103   935554773 2019-08-15     2210     B\n",
       "6       398296753  2900797465 2019-08-15     1860     B\n",
       "7      2626614568    78758296 2019-08-15     1044     A\n",
       "8      1576988021   295230930 2019-08-15    13710     A\n",
       "9      1506739906  1882260405 2019-08-15     1855     B\n",
       "10     3649131742   879864040 2019-08-15     4008     A"
      ]
     },
     "execution_count": 25,
     "metadata": {},
     "output_type": "execute_result"
    }
   ],
   "source": [
    "orders.head(10)"
   ]
  },
  {
   "cell_type": "code",
   "execution_count": 4,
   "metadata": {
    "colab": {
     "base_uri": "https://localhost:8080/",
     "height": 206
    },
    "id": "f137658b",
    "outputId": "3a758d48-2313-4d37-d524-a53f989aa161"
   },
   "outputs": [
    {
     "data": {
      "text/html": [
       "<div>\n",
       "<style scoped>\n",
       "    .dataframe tbody tr th:only-of-type {\n",
       "        vertical-align: middle;\n",
       "    }\n",
       "\n",
       "    .dataframe tbody tr th {\n",
       "        vertical-align: top;\n",
       "    }\n",
       "\n",
       "    .dataframe thead th {\n",
       "        text-align: right;\n",
       "    }\n",
       "</style>\n",
       "<table border=\"1\" class=\"dataframe\">\n",
       "  <thead>\n",
       "    <tr style=\"text-align: right;\">\n",
       "      <th></th>\n",
       "      <th>date</th>\n",
       "      <th>group</th>\n",
       "      <th>visitors</th>\n",
       "    </tr>\n",
       "  </thead>\n",
       "  <tbody>\n",
       "    <tr>\n",
       "      <th>0</th>\n",
       "      <td>2019-08-01</td>\n",
       "      <td>A</td>\n",
       "      <td>719</td>\n",
       "    </tr>\n",
       "    <tr>\n",
       "      <th>1</th>\n",
       "      <td>2019-08-02</td>\n",
       "      <td>A</td>\n",
       "      <td>619</td>\n",
       "    </tr>\n",
       "    <tr>\n",
       "      <th>2</th>\n",
       "      <td>2019-08-03</td>\n",
       "      <td>A</td>\n",
       "      <td>507</td>\n",
       "    </tr>\n",
       "    <tr>\n",
       "      <th>3</th>\n",
       "      <td>2019-08-04</td>\n",
       "      <td>A</td>\n",
       "      <td>717</td>\n",
       "    </tr>\n",
       "    <tr>\n",
       "      <th>4</th>\n",
       "      <td>2019-08-05</td>\n",
       "      <td>A</td>\n",
       "      <td>756</td>\n",
       "    </tr>\n",
       "  </tbody>\n",
       "</table>\n",
       "</div>"
      ],
      "text/plain": [
       "         date group  visitors\n",
       "0  2019-08-01     A       719\n",
       "1  2019-08-02     A       619\n",
       "2  2019-08-03     A       507\n",
       "3  2019-08-04     A       717\n",
       "4  2019-08-05     A       756"
      ]
     },
     "execution_count": 4,
     "metadata": {},
     "output_type": "execute_result"
    }
   ],
   "source": [
    "visitors.head(5)"
   ]
  },
  {
   "cell_type": "markdown",
   "metadata": {
    "id": "d69a64b6"
   },
   "source": [
    "## Data preprocessing"
   ]
  },
  {
   "cell_type": "markdown",
   "metadata": {
    "id": "22e993f1"
   },
   "source": [
    "### Orders table"
   ]
  },
  {
   "cell_type": "code",
   "execution_count": 5,
   "metadata": {
    "colab": {
     "base_uri": "https://localhost:8080/"
    },
    "id": "f82dc91e",
    "outputId": "d68cffb0-1e7d-489e-bc7d-63b249247909"
   },
   "outputs": [
    {
     "name": "stdout",
     "output_type": "stream",
     "text": [
      "<class 'pandas.core.frame.DataFrame'>\n",
      "RangeIndex: 1197 entries, 0 to 1196\n",
      "Data columns (total 5 columns):\n",
      " #   Column         Non-Null Count  Dtype \n",
      "---  ------         --------------  ----- \n",
      " 0   transactionId  1197 non-null   int64 \n",
      " 1   visitorId      1197 non-null   int64 \n",
      " 2   date           1197 non-null   object\n",
      " 3   revenue        1197 non-null   int64 \n",
      " 4   group          1197 non-null   object\n",
      "dtypes: int64(3), object(2)\n",
      "memory usage: 174.3 KB\n"
     ]
    }
   ],
   "source": [
    "orders.info(memory_usage='deep')"
   ]
  },
  {
   "cell_type": "markdown",
   "metadata": {
    "id": "ae613f6c"
   },
   "source": [
    "The titles are correct"
   ]
  },
  {
   "cell_type": "markdown",
   "metadata": {},
   "source": [
    "Checking for missing values"
   ]
  },
  {
   "cell_type": "code",
   "execution_count": 6,
   "metadata": {
    "colab": {
     "base_uri": "https://localhost:8080/"
    },
    "id": "7ff41370",
    "outputId": "3ac23464-1b19-4e89-c257-a6d1a83ca98f"
   },
   "outputs": [
    {
     "data": {
      "text/plain": [
       "transactionId    0\n",
       "visitorId        0\n",
       "date             0\n",
       "revenue          0\n",
       "group            0\n",
       "dtype: int64"
      ]
     },
     "execution_count": 6,
     "metadata": {},
     "output_type": "execute_result"
    }
   ],
   "source": [
    "orders.isna().sum()"
   ]
  },
  {
   "cell_type": "markdown",
   "metadata": {
    "id": "7db47e45"
   },
   "source": [
    "Performing a search for explicit duplicates"
   ]
  },
  {
   "cell_type": "code",
   "execution_count": 7,
   "metadata": {
    "colab": {
     "base_uri": "https://localhost:8080/"
    },
    "id": "f128fc04",
    "outputId": "44a935aa-907b-48ec-d5ab-5c1e32946c5f"
   },
   "outputs": [
    {
     "data": {
      "text/plain": [
       "0"
      ]
     },
     "execution_count": 7,
     "metadata": {},
     "output_type": "execute_result"
    }
   ],
   "source": [
    "orders.duplicated().sum()"
   ]
  },
  {
   "cell_type": "markdown",
   "metadata": {
    "id": "12e0ca49"
   },
   "source": [
    "Searching for implicit duplicates"
   ]
  },
  {
   "cell_type": "code",
   "execution_count": 8,
   "metadata": {
    "colab": {
     "base_uri": "https://localhost:8080/"
    },
    "id": "a8d63b20",
    "outputId": "3ebd3c38-8c8d-46a8-b532-da1bc0efe943"
   },
   "outputs": [
    {
     "name": "stdout",
     "output_type": "stream",
     "text": [
      "[3667963787 2804400009 2961555356 ... 1807773912 1947021204 3936777065]\n",
      "[3312258926 3642806036 4069496402 ...  370388673  573423106 2108080724]\n",
      "['2019-08-15' '2019-08-16' '2019-08-01' '2019-08-22' '2019-08-17'\n",
      " '2019-08-23' '2019-08-02' '2019-08-18' '2019-08-24' '2019-08-03'\n",
      " '2019-08-25' '2019-08-28' '2019-08-19' '2019-08-06' '2019-08-26'\n",
      " '2019-08-29' '2019-08-04' '2019-08-20' '2019-08-09' '2019-08-07'\n",
      " '2019-08-30' '2019-08-05' '2019-08-27' '2019-08-21' '2019-08-08'\n",
      " '2019-08-10' '2019-08-31' '2019-08-11' '2019-08-12' '2019-08-13'\n",
      " '2019-08-14']\n",
      "[   1650     730     400    9759    2308    2210    1860    1044   13710\n",
      "    1855    4008    4499    7370   11985   10980   15277    1060     990\n",
      "   16490    1190     300    1050     632   15185    7555    3488    7620\n",
      "    5280     700     190     383    1680   22785    2355    2470    6250\n",
      "   19260     610    2986    1090    9290    2480    3000    2140    3590\n",
      "    6990    1250    2970   18100     100    2750     570    2978    1440\n",
      "    7860   56650     790    1350    2540    1710    2350   14610    8999\n",
      "   10510   29499     780     890    4400   32350   40740    2490    2080\n",
      "    5400    5100    4020     690   12350    1290     382    2110    1490\n",
      "   17868    1940   26550    5970     987    9024    5555    7129    3240\n",
      "    2995    2550   17600     850    5365    8390    5870    5020   14489\n",
      "    8470    1630    5800     172    6230     760    3390    4480    1139\n",
      "   12336    1450    7990    5099    9400    6441    3070    6145   53904\n",
      "    6922    5190    6976    7690     426   28490     390     299    6329\n",
      "    8800    2990    9448    2920    9980    1790    4970    3760    8090\n",
      "   11990   18900    6420    1990     650     436    1038    1780    3564\n",
      "    3340    5480   38160    2800    3040     995    3210     310    2090\n",
      "    3468     778    5740    4580    1840    1550   17990     290    6940\n",
      "    1690    5369   11115     165    2646    2220    2190    2845    1799\n",
      "    1498    9850    6700     500    2640    4717   30649    5640    2820\n",
      "   17422   14155    4185   10960    1140    1310    1380   10791    9310\n",
      "    3470    2955   15850   27550   15485    6201    2320     599     660\n",
      "    6149    2938   10590     110   12810    9880     920   15417     950\n",
      "    2339    3190    2360   16950   34340    1620   14271    1920     380\n",
      "    8240     282   10970     170    1922   14400   19538   10450    2290\n",
      "    1830   33970    1100    4877   12680     860    3354    1000    6890\n",
      "    4299   12562     420   23750    6350     490   22040    2950    2342\n",
      "    5622    7485    1200    2057      76    1900    2690   20219    4195\n",
      "     830    2330    2526    1435    1460     250    6194    3460    5070\n",
      "    8850    1410    1758    1220    8000   15072   41450    1530    1390\n",
      "    4370    6000    2580    5160    6536    5000   14970    9080     910\n",
      "   16770    2500    1590    3990   20026   12470    4980   16680   16480\n",
      "    4780    3450    5415   16279    2385     120    1398   20990    5539\n",
      "     270   21220    1253   12550     880    9990    3890   19240    3080\n",
      "     460      70     870   26980   13990   24744    4500    8870     600\n",
      "     440     750    1950   37550   31680    9490   11249     470 1294500\n",
      "    2630    4930    3150   17650    5450    5770    1575   20450   11050\n",
      "    2000    2255    1999    7300   18464    6677    2890    6248    5270\n",
      "    4485    7349    3030      50    9232    9934    2840    8990    8780\n",
      "    4410     350   19280   13769    6681    6260    1130   11135   20100\n",
      "    2722    8885    8585    1980   10195   30990    2359     320    2590\n",
      "    8250     580    5350    3140    1910   17379    4840    6930    5690\n",
      "    6090     740   10440    4880    6590   21550   33405    3525   43990\n",
      "   13390     697    4495    8401    6382    2285   10485    6288   11711\n",
      "    3950   25080    1580   35485    9750   27490    1510    1850    4990\n",
      "    3650   33050    5530   27600    1893   31350     360    5249    6716\n",
      "    3559    5790     604    3550     240    2235   10550    4690   12888\n",
      "    7995    3220     495     265    4790     480    1721    2830     340\n",
      "    1870    2670    2420    3261    1634   39800   12990   25890   18990\n",
      "    3826   18010   10250   17030    5119    9870   13860    8877    4620\n",
      "   43690    1846      90    4190   34550   10765    7024    4698    2030\n",
      "   78990   10850     550   16990     620     654    6613   10160    6400\n",
      "    6440   27390    2050     540   42740    9680    5150     410    3680\n",
      "    5227     590    5776    2390   14495    2070    2555   19520   11688\n",
      "    4180    1399   45880    3050     295   17792   24381    1805   28350\n",
      "    6170    3270    2960    1020   10137   14490   67990   86620    4900\n",
      "   49495    3170   37150   19660   45780   24860    1737    1040    9690\n",
      "    1149    5490    1640     840   12490    4740    3480     785    7890\n",
      "    2600    3739     900    3888    1993   13770   20290    2578    5330\n",
      "    5719    2436    5030    4210    2400    8099    1540    6242   18560\n",
      "     150    4600   13740    2790   19990     980    1120   15416    3410\n",
      "    5840    4170   10170     985   22950    1180    1188    2674    4710\n",
      "   18270     770   93940    7110   12642    4920    3290   35890    4363\n",
      "    6445   58220    3740    3500    1600    1420    1729    3250     450\n",
      "   11440    4188     530   13354   17300    2180     160    1960     359\n",
      "     510   19386      75    1885    4040   25790   13203    2250   34990\n",
      "    3430   19490     720      60    7390    3910   58550     800    7240\n",
      "   18350   18463    3330    6660    4283   60450   24350    9050    5170\n",
      "   28750   11250    1730    5900    2348    3600    1320    3806    2907\n",
      "     971   14990     640    8290    5430     820    4685    2610   14250\n",
      "     130   52900    3490    4390    9800   13070   15500    6674    3404\n",
      "   18557    8439    8340   27985    6645    8640    6060    1720   15450\n",
      "    1800    8950    8280    1825    5688    4240    2061   12150    1280\n",
      "    8777    9300    8590    6015    1170    4650   39500    6585    5050\n",
      "   14000   32610   16920   65710     725    6438   66350    3320   11490\n",
      "    7500    7550   11565    2752   28060    1707    6780    5390    3260\n",
      "   17940   24990    3980    8529    5440    2510   18893   92550   52480\n",
      "    4140    3520    3180    4120     370    6385    9368    3780    1329\n",
      "    3020    6180   25250    4940   10380   15380     112   31550    8600\n",
      "    6490  202740]\n",
      "['B' 'A']\n"
     ]
    }
   ],
   "source": [
    "for nameCol in orders.columns.to_list():\n",
    "    print(orders[nameCol].unique())"
   ]
  },
  {
   "cell_type": "markdown",
   "metadata": {
    "id": "531d3ce2"
   },
   "source": [
    "Converting the date field to the type pandas.datetime64[ns]"
   ]
  },
  {
   "cell_type": "code",
   "execution_count": 9,
   "metadata": {
    "colab": {
     "base_uri": "https://localhost:8080/"
    },
    "id": "b747da7a",
    "outputId": "453763f6-9c3f-4660-f5b9-f31705f89024"
   },
   "outputs": [
    {
     "name": "stdout",
     "output_type": "stream",
     "text": [
      "<class 'pandas.core.frame.DataFrame'>\n",
      "RangeIndex: 1197 entries, 0 to 1196\n",
      "Data columns (total 5 columns):\n",
      " #   Column         Non-Null Count  Dtype         \n",
      "---  ------         --------------  -----         \n",
      " 0   transactionId  1197 non-null   int64         \n",
      " 1   visitorId      1197 non-null   int64         \n",
      " 2   date           1197 non-null   datetime64[ns]\n",
      " 3   revenue        1197 non-null   int64         \n",
      " 4   group          1197 non-null   object        \n",
      "dtypes: datetime64[ns](1), int64(3), object(1)\n",
      "memory usage: 105.3 KB\n"
     ]
    }
   ],
   "source": [
    "orders[\"date\"] = orders[\"date\"].astype(np.datetime64)\n",
    "orders.info(memory_usage='deep')"
   ]
  },
  {
   "cell_type": "markdown",
   "metadata": {
    "id": "d3c5d436"
   },
   "source": [
    "### Visitors Table"
   ]
  },
  {
   "cell_type": "code",
   "execution_count": 10,
   "metadata": {
    "colab": {
     "base_uri": "https://localhost:8080/"
    },
    "id": "58747f88",
    "outputId": "5f148974-75e7-4bf1-cf10-44dd0b41517d"
   },
   "outputs": [
    {
     "name": "stdout",
     "output_type": "stream",
     "text": [
      "<class 'pandas.core.frame.DataFrame'>\n",
      "RangeIndex: 62 entries, 0 to 61\n",
      "Data columns (total 3 columns):\n",
      " #   Column    Non-Null Count  Dtype \n",
      "---  ------    --------------  ----- \n",
      " 0   date      62 non-null     object\n",
      " 1   group     62 non-null     object\n",
      " 2   visitors  62 non-null     int64 \n",
      "dtypes: int64(1), object(2)\n",
      "memory usage: 8.2 KB\n"
     ]
    }
   ],
   "source": [
    "visitors.info(memory_usage='deep')"
   ]
  },
  {
   "cell_type": "markdown",
   "metadata": {
    "id": "dafd7e58"
   },
   "source": [
    "The titles are correct"
   ]
  },
  {
   "cell_type": "code",
   "execution_count": 11,
   "metadata": {
    "colab": {
     "base_uri": "https://localhost:8080/"
    },
    "id": "cc1cee6a",
    "outputId": "e9e2d6db-8f5c-49c6-ac1f-c24fbdef269e"
   },
   "outputs": [
    {
     "data": {
      "text/plain": [
       "date        0\n",
       "group       0\n",
       "visitors    0\n",
       "dtype: int64"
      ]
     },
     "execution_count": 11,
     "metadata": {},
     "output_type": "execute_result"
    }
   ],
   "source": [
    "visitors.isna().sum()"
   ]
  },
  {
   "cell_type": "markdown",
   "metadata": {
    "id": "c663313f"
   },
   "source": [
    "There are no empty values"
   ]
  },
  {
   "cell_type": "markdown",
   "metadata": {
    "id": "24984512"
   },
   "source": [
    "Performing a search for explicit duplicates"
   ]
  },
  {
   "cell_type": "code",
   "execution_count": 12,
   "metadata": {
    "colab": {
     "base_uri": "https://localhost:8080/"
    },
    "id": "e7c97f75",
    "outputId": "2f6db6ff-cb1d-4b85-8fb0-a881554db2a4"
   },
   "outputs": [
    {
     "data": {
      "text/plain": [
       "0"
      ]
     },
     "execution_count": 12,
     "metadata": {},
     "output_type": "execute_result"
    }
   ],
   "source": [
    "visitors.duplicated().sum()"
   ]
  },
  {
   "cell_type": "markdown",
   "metadata": {},
   "source": [
    "Explicit duplicates"
   ]
  },
  {
   "cell_type": "markdown",
   "metadata": {
    "id": "21161906"
   },
   "source": [
    "Searching for implicit duplicates. There are none."
   ]
  },
  {
   "cell_type": "code",
   "execution_count": 13,
   "metadata": {
    "colab": {
     "base_uri": "https://localhost:8080/"
    },
    "id": "64704f58",
    "outputId": "0a7ba5ea-d5a1-4e2c-a5fc-def08c33667d"
   },
   "outputs": [
    {
     "name": "stdout",
     "output_type": "stream",
     "text": [
      "['2019-08-01' '2019-08-02' '2019-08-03' '2019-08-04' '2019-08-05'\n",
      " '2019-08-06' '2019-08-07' '2019-08-08' '2019-08-09' '2019-08-10'\n",
      " '2019-08-11' '2019-08-12' '2019-08-13' '2019-08-14' '2019-08-15'\n",
      " '2019-08-16' '2019-08-17' '2019-08-18' '2019-08-19' '2019-08-20'\n",
      " '2019-08-21' '2019-08-22' '2019-08-23' '2019-08-24' '2019-08-25'\n",
      " '2019-08-26' '2019-08-27' '2019-08-28' '2019-08-29' '2019-08-30'\n",
      " '2019-08-31']\n",
      "['A' 'B']\n",
      "[719 619 507 717 756 667 644 610 617 406 718 595 748 735 628 361 412 668\n",
      " 502 575 646 609 468 395 621 722 711 594 577 490 699 713 581 509 770 707\n",
      " 655 709 654 369 721 543 769 746 544 413 421 737 487 560 656 650 546 378\n",
      " 679 676 720 531]\n"
     ]
    }
   ],
   "source": [
    "for nameCol in visitors.columns.to_list():\n",
    "    print(visitors[nameCol].unique())"
   ]
  },
  {
   "cell_type": "markdown",
   "metadata": {
    "id": "31de70d0"
   },
   "source": [
    "Converting the date field to the type pandas.datetime64[ns]."
   ]
  },
  {
   "cell_type": "code",
   "execution_count": 14,
   "metadata": {
    "colab": {
     "base_uri": "https://localhost:8080/"
    },
    "id": "a8308a21",
    "outputId": "95665dee-c22f-4a21-8647-e1fee09080a2"
   },
   "outputs": [
    {
     "name": "stdout",
     "output_type": "stream",
     "text": [
      "<class 'pandas.core.frame.DataFrame'>\n",
      "RangeIndex: 62 entries, 0 to 61\n",
      "Data columns (total 3 columns):\n",
      " #   Column    Non-Null Count  Dtype         \n",
      "---  ------    --------------  -----         \n",
      " 0   date      62 non-null     datetime64[ns]\n",
      " 1   group     62 non-null     object        \n",
      " 2   visitors  62 non-null     int64         \n",
      "dtypes: datetime64[ns](1), int64(1), object(1)\n",
      "memory usage: 4.6 KB\n"
     ]
    }
   ],
   "source": [
    "visitors[\"date\"] = visitors[\"date\"].astype(np.datetime64)\n",
    "visitors.info(memory_usage='deep')"
   ]
  },
  {
   "cell_type": "markdown",
   "metadata": {
    "id": "c121441f"
   },
   "source": [
    "### Checking and removing overlapping users"
   ]
  },
  {
   "cell_type": "markdown",
   "metadata": {
    "id": "af678f80"
   },
   "source": [
    "We will search for overlapping users in the orders table and remove them (183 instances)"
   ]
  },
  {
   "cell_type": "code",
   "execution_count": 15,
   "metadata": {
    "id": "775b98fd"
   },
   "outputs": [],
   "source": [
    "ordersGroupA = orders[orders['group'] == 'A']\n",
    "ordersGroupB = orders[orders['group'] == 'B']"
   ]
  },
  {
   "cell_type": "code",
   "execution_count": 16,
   "metadata": {
    "colab": {
     "base_uri": "https://localhost:8080/"
    },
    "id": "b467fe85",
    "outputId": "0fc2f337-6d37-4c9e-8e81-7b4d6a986c0b"
   },
   "outputs": [
    {
     "name": "stdout",
     "output_type": "stream",
     "text": [
      "Deleted \n",
      "183\n"
     ]
    }
   ],
   "source": [
    "delCnt = 0\n",
    "for indexA, rowOrderA in ordersGroupA.iterrows():\n",
    "    for indexB, rowOrderB in ordersGroupB.iterrows():\n",
    "        if rowOrderA['visitorId'] == rowOrderB['visitorId']:\n",
    "            orders = orders.drop(orders[orders.visitorId == rowOrderA['visitorId']].index)\n",
    "            delCnt += 1\n",
    "            continue\n",
    "            \n",
    "print('Deleted ')\n",
    "print(delCnt)"
   ]
  },
  {
   "cell_type": "markdown",
   "metadata": {
    "id": "2c3d2719"
   },
   "source": [
    "### Array of unique pairs"
   ]
  },
  {
   "cell_type": "markdown",
   "metadata": {
    "id": "c1c81c6c"
   },
   "source": [
    "Created an array of unique pairs of dates and test groups"
   ]
  },
  {
   "cell_type": "code",
   "execution_count": 17,
   "metadata": {
    "id": "51e97f19"
   },
   "outputs": [],
   "source": [
    "datesGroups = orders[['date','group']].drop_duplicates()"
   ]
  },
  {
   "cell_type": "markdown",
   "metadata": {
    "id": "0b3daa35"
   },
   "source": [
    "### Aggregated cumulative data on orders by day"
   ]
  },
  {
   "cell_type": "markdown",
   "metadata": {
    "id": "d284147d"
   },
   "source": [
    "We will obtain cumulative aggregated data on orders by day"
   ]
  },
  {
   "cell_type": "code",
   "execution_count": 18,
   "metadata": {
    "colab": {
     "base_uri": "https://localhost:8080/",
     "height": 206
    },
    "id": "831e3cf1",
    "outputId": "d54728c6-dd11-404d-df07-9c7cf1015233"
   },
   "outputs": [
    {
     "data": {
      "text/html": [
       "<div>\n",
       "<style scoped>\n",
       "    .dataframe tbody tr th:only-of-type {\n",
       "        vertical-align: middle;\n",
       "    }\n",
       "\n",
       "    .dataframe tbody tr th {\n",
       "        vertical-align: top;\n",
       "    }\n",
       "\n",
       "    .dataframe thead th {\n",
       "        text-align: right;\n",
       "    }\n",
       "</style>\n",
       "<table border=\"1\" class=\"dataframe\">\n",
       "  <thead>\n",
       "    <tr style=\"text-align: right;\">\n",
       "      <th></th>\n",
       "      <th>date</th>\n",
       "      <th>group</th>\n",
       "      <th>transactionId</th>\n",
       "      <th>visitorId</th>\n",
       "      <th>revenue</th>\n",
       "    </tr>\n",
       "  </thead>\n",
       "  <tbody>\n",
       "    <tr>\n",
       "      <th>55</th>\n",
       "      <td>2019-08-01</td>\n",
       "      <td>A</td>\n",
       "      <td>23</td>\n",
       "      <td>19</td>\n",
       "      <td>142779</td>\n",
       "    </tr>\n",
       "    <tr>\n",
       "      <th>66</th>\n",
       "      <td>2019-08-01</td>\n",
       "      <td>B</td>\n",
       "      <td>17</td>\n",
       "      <td>17</td>\n",
       "      <td>59758</td>\n",
       "    </tr>\n",
       "    <tr>\n",
       "      <th>175</th>\n",
       "      <td>2019-08-02</td>\n",
       "      <td>A</td>\n",
       "      <td>42</td>\n",
       "      <td>36</td>\n",
       "      <td>234381</td>\n",
       "    </tr>\n",
       "    <tr>\n",
       "      <th>173</th>\n",
       "      <td>2019-08-02</td>\n",
       "      <td>B</td>\n",
       "      <td>40</td>\n",
       "      <td>39</td>\n",
       "      <td>221801</td>\n",
       "    </tr>\n",
       "    <tr>\n",
       "      <th>291</th>\n",
       "      <td>2019-08-03</td>\n",
       "      <td>A</td>\n",
       "      <td>66</td>\n",
       "      <td>60</td>\n",
       "      <td>346854</td>\n",
       "    </tr>\n",
       "  </tbody>\n",
       "</table>\n",
       "</div>"
      ],
      "text/plain": [
       "          date group  transactionId  visitorId  revenue\n",
       "55  2019-08-01     A             23         19   142779\n",
       "66  2019-08-01     B             17         17    59758\n",
       "175 2019-08-02     A             42         36   234381\n",
       "173 2019-08-02     B             40         39   221801\n",
       "291 2019-08-03     A             66         60   346854"
      ]
     },
     "execution_count": 18,
     "metadata": {},
     "output_type": "execute_result"
    }
   ],
   "source": [
    "ordersAgreagated = datesGroups.apply(\n",
    "    lambda x: \n",
    "        orders[np.logical_and(\n",
    "            orders['date'] <= x['date'], \n",
    "            orders['group'] == x['group'])\n",
    "        ].\n",
    "        agg({'date' : 'max', \n",
    "             'group' : 'max', \n",
    "             'transactionId' : 'nunique', \n",
    "             'visitorId' : 'nunique', \n",
    "             'revenue' : 'sum'}), axis=1).sort_values(by=['date','group'])\n",
    "ordersAgreagated.head()"
   ]
  },
  {
   "cell_type": "markdown",
   "metadata": {
    "id": "e91fa569"
   },
   "source": [
    "### Aggregated cumulative data on visitors by day"
   ]
  },
  {
   "cell_type": "markdown",
   "metadata": {
    "id": "415c820c"
   },
   "source": [
    "We will obtain cumulative aggregated data on visitors by day"
   ]
  },
  {
   "cell_type": "code",
   "execution_count": 19,
   "metadata": {
    "colab": {
     "base_uri": "https://localhost:8080/",
     "height": 206
    },
    "id": "c59e19e9",
    "outputId": "2fb32e2f-b804-4944-e762-10b1e41f5652"
   },
   "outputs": [
    {
     "data": {
      "text/html": [
       "<div>\n",
       "<style scoped>\n",
       "    .dataframe tbody tr th:only-of-type {\n",
       "        vertical-align: middle;\n",
       "    }\n",
       "\n",
       "    .dataframe tbody tr th {\n",
       "        vertical-align: top;\n",
       "    }\n",
       "\n",
       "    .dataframe thead th {\n",
       "        text-align: right;\n",
       "    }\n",
       "</style>\n",
       "<table border=\"1\" class=\"dataframe\">\n",
       "  <thead>\n",
       "    <tr style=\"text-align: right;\">\n",
       "      <th></th>\n",
       "      <th>date</th>\n",
       "      <th>group</th>\n",
       "      <th>visitors</th>\n",
       "    </tr>\n",
       "  </thead>\n",
       "  <tbody>\n",
       "    <tr>\n",
       "      <th>55</th>\n",
       "      <td>2019-08-01</td>\n",
       "      <td>A</td>\n",
       "      <td>719</td>\n",
       "    </tr>\n",
       "    <tr>\n",
       "      <th>66</th>\n",
       "      <td>2019-08-01</td>\n",
       "      <td>B</td>\n",
       "      <td>713</td>\n",
       "    </tr>\n",
       "    <tr>\n",
       "      <th>175</th>\n",
       "      <td>2019-08-02</td>\n",
       "      <td>A</td>\n",
       "      <td>1338</td>\n",
       "    </tr>\n",
       "    <tr>\n",
       "      <th>173</th>\n",
       "      <td>2019-08-02</td>\n",
       "      <td>B</td>\n",
       "      <td>1294</td>\n",
       "    </tr>\n",
       "    <tr>\n",
       "      <th>291</th>\n",
       "      <td>2019-08-03</td>\n",
       "      <td>A</td>\n",
       "      <td>1845</td>\n",
       "    </tr>\n",
       "  </tbody>\n",
       "</table>\n",
       "</div>"
      ],
      "text/plain": [
       "          date group  visitors\n",
       "55  2019-08-01     A       719\n",
       "66  2019-08-01     B       713\n",
       "175 2019-08-02     A      1338\n",
       "173 2019-08-02     B      1294\n",
       "291 2019-08-03     A      1845"
      ]
     },
     "execution_count": 19,
     "metadata": {},
     "output_type": "execute_result"
    }
   ],
   "source": [
    "visitorsAggregated = datesGroups.apply(lambda x: \n",
    "    visitors[np.logical_and(\n",
    "        visitors['date'] <= x['date'], \n",
    "        visitors['group'] == x['group'])\n",
    "    ].\n",
    "    agg({'date' : 'max', \n",
    "         'group' : 'max', \n",
    "         'visitors' : 'sum'}), axis=1).sort_values(by=['date','group'])\n",
    "visitorsAggregated.head()"
   ]
  },
  {
   "cell_type": "markdown",
   "metadata": {
    "id": "7c62972b"
   },
   "source": [
    "### Data merging"
   ]
  },
  {
   "cell_type": "markdown",
   "metadata": {
    "id": "ec876b83"
   },
   "source": [
    "We will merge the data into one table, changing the column names"
   ]
  },
  {
   "cell_type": "code",
   "execution_count": 20,
   "metadata": {
    "colab": {
     "base_uri": "https://localhost:8080/",
     "height": 206
    },
    "id": "e9a53f9e",
    "outputId": "7fec0d60-611a-4439-d11c-e1f1bf4525e8"
   },
   "outputs": [
    {
     "data": {
      "text/html": [
       "<div>\n",
       "<style scoped>\n",
       "    .dataframe tbody tr th:only-of-type {\n",
       "        vertical-align: middle;\n",
       "    }\n",
       "\n",
       "    .dataframe tbody tr th {\n",
       "        vertical-align: top;\n",
       "    }\n",
       "\n",
       "    .dataframe thead th {\n",
       "        text-align: right;\n",
       "    }\n",
       "</style>\n",
       "<table border=\"1\" class=\"dataframe\">\n",
       "  <thead>\n",
       "    <tr style=\"text-align: right;\">\n",
       "      <th></th>\n",
       "      <th>date</th>\n",
       "      <th>group</th>\n",
       "      <th>orders</th>\n",
       "      <th>byers</th>\n",
       "      <th>revenue</th>\n",
       "      <th>visitors</th>\n",
       "    </tr>\n",
       "  </thead>\n",
       "  <tbody>\n",
       "    <tr>\n",
       "      <th>55</th>\n",
       "      <td>2019-08-01</td>\n",
       "      <td>A</td>\n",
       "      <td>23</td>\n",
       "      <td>19</td>\n",
       "      <td>142779</td>\n",
       "      <td>719</td>\n",
       "    </tr>\n",
       "    <tr>\n",
       "      <th>66</th>\n",
       "      <td>2019-08-01</td>\n",
       "      <td>B</td>\n",
       "      <td>17</td>\n",
       "      <td>17</td>\n",
       "      <td>59758</td>\n",
       "      <td>713</td>\n",
       "    </tr>\n",
       "    <tr>\n",
       "      <th>175</th>\n",
       "      <td>2019-08-02</td>\n",
       "      <td>A</td>\n",
       "      <td>42</td>\n",
       "      <td>36</td>\n",
       "      <td>234381</td>\n",
       "      <td>1338</td>\n",
       "    </tr>\n",
       "    <tr>\n",
       "      <th>173</th>\n",
       "      <td>2019-08-02</td>\n",
       "      <td>B</td>\n",
       "      <td>40</td>\n",
       "      <td>39</td>\n",
       "      <td>221801</td>\n",
       "      <td>1294</td>\n",
       "    </tr>\n",
       "    <tr>\n",
       "      <th>291</th>\n",
       "      <td>2019-08-03</td>\n",
       "      <td>A</td>\n",
       "      <td>66</td>\n",
       "      <td>60</td>\n",
       "      <td>346854</td>\n",
       "      <td>1845</td>\n",
       "    </tr>\n",
       "  </tbody>\n",
       "</table>\n",
       "</div>"
      ],
      "text/plain": [
       "          date group  orders  byers  revenue  visitors\n",
       "55  2019-08-01     A      23     19   142779       719\n",
       "66  2019-08-01     B      17     17    59758       713\n",
       "175 2019-08-02     A      42     36   234381      1338\n",
       "173 2019-08-02     B      40     39   221801      1294\n",
       "291 2019-08-03     A      66     60   346854      1845"
      ]
     },
     "execution_count": 20,
     "metadata": {},
     "output_type": "execute_result"
    }
   ],
   "source": [
    "cumulativeData = ordersAgreagated\n",
    "cumulativeData = cumulativeData.join(visitorsAggregated.drop(['date', 'group'], axis=1), sort=False)\n",
    "cumulativeData.rename(columns={'transactionId': 'orders', 'visitorId': 'byers'}, inplace=True)\n",
    "cumulativeData.head()"
   ]
  },
  {
   "cell_type": "markdown",
   "metadata": {
    "id": "9ffdf2d8"
   },
   "source": [
    "### Task by option"
   ]
  },
  {
   "cell_type": "markdown",
   "metadata": {
    "id": "NMQMJCZ8ElOM"
   },
   "source": [
    "According to option 4, we will create a scatter plot of the number of orders by users. First, we will obtain the table using groupby."
   ]
  },
  {
   "cell_type": "code",
   "execution_count": 21,
   "metadata": {
    "colab": {
     "base_uri": "https://localhost:8080/",
     "height": 423
    },
    "id": "4WHWWH3dNT1D",
    "outputId": "a3c3a788-77dc-49d8-92dd-91d0c58f4272"
   },
   "outputs": [
    {
     "data": {
      "text/html": [
       "<div>\n",
       "<style scoped>\n",
       "    .dataframe tbody tr th:only-of-type {\n",
       "        vertical-align: middle;\n",
       "    }\n",
       "\n",
       "    .dataframe tbody tr th {\n",
       "        vertical-align: top;\n",
       "    }\n",
       "\n",
       "    .dataframe thead th {\n",
       "        text-align: right;\n",
       "    }\n",
       "</style>\n",
       "<table border=\"1\" class=\"dataframe\">\n",
       "  <thead>\n",
       "    <tr style=\"text-align: right;\">\n",
       "      <th></th>\n",
       "      <th>visitorId</th>\n",
       "      <th>orders</th>\n",
       "    </tr>\n",
       "  </thead>\n",
       "  <tbody>\n",
       "    <tr>\n",
       "      <th>908</th>\n",
       "      <td>3967698036</td>\n",
       "      <td>3</td>\n",
       "    </tr>\n",
       "    <tr>\n",
       "      <th>55</th>\n",
       "      <td>249864742</td>\n",
       "      <td>3</td>\n",
       "    </tr>\n",
       "    <tr>\n",
       "      <th>478</th>\n",
       "      <td>2108163459</td>\n",
       "      <td>3</td>\n",
       "    </tr>\n",
       "    <tr>\n",
       "      <th>687</th>\n",
       "      <td>2988190573</td>\n",
       "      <td>3</td>\n",
       "    </tr>\n",
       "    <tr>\n",
       "      <th>890</th>\n",
       "      <td>3908431265</td>\n",
       "      <td>3</td>\n",
       "    </tr>\n",
       "    <tr>\n",
       "      <th>...</th>\n",
       "      <td>...</td>\n",
       "      <td>...</td>\n",
       "    </tr>\n",
       "    <tr>\n",
       "      <th>331</th>\n",
       "      <td>1438226485</td>\n",
       "      <td>1</td>\n",
       "    </tr>\n",
       "    <tr>\n",
       "      <th>332</th>\n",
       "      <td>1452540367</td>\n",
       "      <td>1</td>\n",
       "    </tr>\n",
       "    <tr>\n",
       "      <th>333</th>\n",
       "      <td>1455323168</td>\n",
       "      <td>1</td>\n",
       "    </tr>\n",
       "    <tr>\n",
       "      <th>334</th>\n",
       "      <td>1455861274</td>\n",
       "      <td>1</td>\n",
       "    </tr>\n",
       "    <tr>\n",
       "      <th>972</th>\n",
       "      <td>4283872382</td>\n",
       "      <td>1</td>\n",
       "    </tr>\n",
       "  </tbody>\n",
       "</table>\n",
       "<p>973 rows × 2 columns</p>\n",
       "</div>"
      ],
      "text/plain": [
       "      visitorId  orders\n",
       "908  3967698036       3\n",
       "55    249864742       3\n",
       "478  2108163459       3\n",
       "687  2988190573       3\n",
       "890  3908431265       3\n",
       "..          ...     ...\n",
       "331  1438226485       1\n",
       "332  1452540367       1\n",
       "333  1455323168       1\n",
       "334  1455861274       1\n",
       "972  4283872382       1\n",
       "\n",
       "[973 rows x 2 columns]"
      ]
     },
     "execution_count": 21,
     "metadata": {},
     "output_type": "execute_result"
    }
   ],
   "source": [
    "ordersByUsers = orders.groupby(['visitorId'])['transactionId'].count()\n",
    "new_df = ordersByUsers.to_frame(name = 'orders').reset_index()\n",
    "new_df.sort_values(['orders'],ascending= False )"
   ]
  },
  {
   "cell_type": "markdown",
   "metadata": {
    "id": "X3w10cK8S4hb"
   },
   "source": [
    "Next, we will create the scatter plot"
   ]
  },
  {
   "cell_type": "code",
   "execution_count": 22,
   "metadata": {
    "colab": {
     "base_uri": "https://localhost:8080/"
    },
    "id": "CpXBPt90WZYO",
    "outputId": "1b744852-56d9-4253-9542-7bc2d010843f"
   },
   "outputs": [
    {
     "data": {
      "text/plain": [
       "0        0\n",
       "1        1\n",
       "2        2\n",
       "3        3\n",
       "4        4\n",
       "      ... \n",
       "968    968\n",
       "969    969\n",
       "970    970\n",
       "971    971\n",
       "972    972\n",
       "Length: 973, dtype: int64"
      ]
     },
     "execution_count": 22,
     "metadata": {},
     "output_type": "execute_result"
    }
   ],
   "source": [
    "a = pd.Series(range(0,len(ordersByUsers)))\n",
    "a\n"
   ]
  },
  {
   "cell_type": "code",
   "execution_count": 23,
   "metadata": {
    "colab": {
     "base_uri": "https://localhost:8080/",
     "height": 621
    },
    "id": "XdQNmNCJS6ly",
    "outputId": "9dad04b6-0bac-40b7-9e27-ea6e17a34431"
   },
   "outputs": [
    {
     "data": {
      "image/png": "[encoded data removed]",
      "text/plain": [
       "<Figure size 1500x1000 with 1 Axes>"
      ]
     },
     "metadata": {},
     "output_type": "display_data"
    }
   ],
   "source": [
    "plt.figure(figsize=(15,10))\n",
    "plt.scatter(a, new_df['orders'])\n",
    "plt.xlabel('Пользователь')\n",
    "plt.ylabel('Число заказов')\n",
    "plt.title('Число заказов по пользователям')\n",
    "plt.show()"
   ]
  },
  {
   "cell_type": "markdown",
   "metadata": {
    "id": "LQyzwkfMElON"
   },
   "source": [
    "Based on the obtained graph, we can conclude that, on average, there is one order per user, and no one made more than three orders."
   ]
  },
  {
   "cell_type": "markdown",
   "metadata": {
    "id": "D7w4Y6qdZl1W"
   },
   "source": [
    "### Conclusion\n",
    "During this lab work, we prepared the collected data for analysis, removed missing values and duplicates, corrected data types and column names, and ensured that there was no information about overlapping users in the data.\n",
    "In the first part of the work, we obtained cumulative aggregated data on visitors and orders by day from the collected data and constructed a graph of the number of orders by users."
   ]
  },
  {
   "cell_type": "code",
   "execution_count": null,
   "metadata": {},
   "outputs": [],
   "source": []
  }
 ],
 "metadata": {
  "colab": {
   "provenance": []
  },
  "kernelspec": {
   "display_name": "Python 3 (ipykernel)",
   "language": "python",
   "name": "python3"
  },
  "language_info": {
   "codemirror_mode": {
    "name": "ipython",
    "version": 3
   },
   "file_extension": ".py",
   "mimetype": "text/x-python",
   "name": "python",
   "nbconvert_exporter": "python",
   "pygments_lexer": "ipython3",
   "version": "3.11.5"
  }
 },
 "nbformat": 4,
 "nbformat_minor": 1
}
